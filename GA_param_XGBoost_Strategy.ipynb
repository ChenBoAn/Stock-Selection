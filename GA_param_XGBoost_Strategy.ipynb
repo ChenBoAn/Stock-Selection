{
 "cells": [
  {
   "cell_type": "code",
   "execution_count": 1,
   "metadata": {},
   "outputs": [],
   "source": [
    "import datetime\n",
    "import pandas as pd\n",
    "from sklearn.preprocessing import StandardScaler, MinMaxScaler\n",
    "import xgboost as xgb\n",
    "from sklearn import metrics\n",
    "import matplotlib.pyplot as plt\n",
    "import numpy as np\n",
    "import random\n",
    "import math"
   ]
  },
  {
   "attachments": {},
   "cell_type": "markdown",
   "metadata": {},
   "source": [
    "## Data Preprocessing"
   ]
  },
  {
   "cell_type": "code",
   "execution_count": 2,
   "metadata": {},
   "outputs": [],
   "source": [
    "def preprocessing(file):\n",
    "    #* 讀取資料\n",
    "    stock_data = pd.read_excel(file)\n",
    "    stock_data = stock_data.drop(columns=['證券代碼'])\n",
    "    #? print(stock_data)\n",
    "\n",
    "    #* 擷取股票年月與簡稱\n",
    "    stock_year = stock_data['年月'].unique()\n",
    "    stock_name = stock_data['簡稱'].unique()\n",
    "    #? print(stock_year)\n",
    "    #? print(stock_name)\n",
    "\n",
    "    #* 移除第2009年\n",
    "    stock = stock_data[stock_data['年月'].isin(stock_year[:-1])]\n",
    "    #? print(stock)\n",
    "    \n",
    "    return stock_data"
   ]
  },
  {
   "attachments": {},
   "cell_type": "markdown",
   "metadata": {},
   "source": [
    "## Normalization"
   ]
  },
  {
   "cell_type": "code",
   "execution_count": 3,
   "metadata": {},
   "outputs": [],
   "source": [
    "def normalization(data):\n",
    "    for col in data.columns[2:-2]:\n",
    "        data[col] = (data[col] - data[col].min()) / (data[col].max() - data[col].min())\n",
    "        \n",
    "    return data"
   ]
  },
  {
   "attachments": {},
   "cell_type": "markdown",
   "metadata": {},
   "source": [
    "## Split train and test by TV(1997~2008)"
   ]
  },
  {
   "cell_type": "code",
   "execution_count": 4,
   "metadata": {},
   "outputs": [],
   "source": [
    "def split_train_test(stock, TV):\n",
    "    #* 擷取股票年月與\n",
    "    stock_year = stock['年月'].unique()\n",
    "    \n",
    "    basic_train_data = stock[stock['年月'].isin(stock_year[:TV])]\n",
    "    train_label = basic_train_data['ReturnMean_year_Label']\n",
    "    train_data = basic_train_data.drop(columns=['簡稱', '年月', 'Return', 'ReturnMean_year_Label'])\n",
    "\n",
    "    basic_test_data = stock[stock['年月'].isin(stock_year[TV:])]\n",
    "    test_label = basic_test_data['ReturnMean_year_Label']\n",
    "    test_data = basic_test_data.drop(columns=['簡稱', '年月', 'Return', 'ReturnMean_year_Label'])\n",
    "    \n",
    "    return train_data, train_label, test_data, test_label"
   ]
  },
  {
   "attachments": {},
   "cell_type": "markdown",
   "metadata": {},
   "source": [
    "## Genetic Algorithm"
   ]
  },
  {
   "attachments": {},
   "cell_type": "markdown",
   "metadata": {},
   "source": [
    "### 染色體解碼"
   ]
  },
  {
   "cell_type": "code",
   "execution_count": 5,
   "metadata": {},
   "outputs": [],
   "source": [
    "def decode(chromosome):\n",
    "    dna_len = len(chromosome)\n",
    "    code = 0\n",
    "    for i in range(dna_len):\n",
    "        gene = dna_len - i - 1\n",
    "        code += chromosome[gene] * (2**i)\n",
    "    \n",
    "    return code"
   ]
  },
  {
   "attachments": {},
   "cell_type": "markdown",
   "metadata": {},
   "source": [
    "### 初始種群"
   ]
  },
  {
   "cell_type": "code",
   "execution_count": 6,
   "metadata": {},
   "outputs": [],
   "source": [
    "def initial_population(pop_num, dna_length):\n",
    "    population = []\n",
    "    for i in range(pop_num):\n",
    "        chromosome = np.ones(dna_length, np.bool8)     \n",
    "        chromosome[:int(0.3 * dna_length)] = False             \n",
    "        np.random.shuffle(chromosome)\n",
    "        population.append(chromosome)\n",
    "    # print(population)\n",
    "    return population"
   ]
  },
  {
   "attachments": {},
   "cell_type": "markdown",
   "metadata": {},
   "source": [
    "### 適應度"
   ]
  },
  {
   "cell_type": "code",
   "execution_count": 7,
   "metadata": {},
   "outputs": [],
   "source": [
    "def fitness(data, pop):\n",
    "    train_data, train_label, test_data, test_label = data\n",
    "\n",
    "    scores = []\n",
    "    for chromosome in pop:\n",
    "        attribute = chromosome[:16]\n",
    "        d_train = xgb.DMatrix(train_data.values[:, attribute], label=train_label)\n",
    "        d_test = xgb.DMatrix(test_data.values[:, attribute], label=test_label)\n",
    "        \n",
    "        param = {\n",
    "            'objective':'binary:logistic',\n",
    "            'learning_rate': 0.01 + decode(chromosome[16:20]).astype('int8') * 0.05, # [0.01, 1] -> 4bits\n",
    "            'eta': 0.01 + decode(chromosome[20:24]).astype('int8') * 0.01, # [0.01, 0.2] -> 4bits \n",
    "            'max_depth': 2 + decode(chromosome[24:27]).astype('int8'), # [1, 10] -> 3bits\n",
    "            'min_child_weight': 1 + decode(chromosome[27:30]).astype('int8'), # [0.01, 10.0] -> 3bits\n",
    "            'gamma': 0.1 + decode(chromosome[30:34]).astype('int8') * 0.5, # [0.01, 10.0] -> 4bits\n",
    "            'subsample': 0.1 + decode(chromosome[34:37]).astype('int8') * 0.1, # [0.01, 1] -> 3bits\n",
    "            'colsample_bytree': 0.1 + decode(chromosome[37:40]).astype('int8') * 0.1, # [0.01, 1] -> 3bits\n",
    "            'seed': 24\n",
    "        }\n",
    "        model = xgb.train(param, d_train, num_boost_round=100)\n",
    "        predictions = model.predict(d_test)\n",
    "        predictions[predictions >= 0.5] = 1\n",
    "        predictions[predictions < 0.5] = 0\n",
    "        test_score = metrics.accuracy_score(test_label, predictions)\n",
    "        scores.append(test_score) # 準確率\n",
    "        \n",
    "    scores, pop = np.array(scores), np.array(pop) \n",
    "    inds = np.argsort(scores)\n",
    "    return list(pop[inds, :][::-1]), list(scores[inds][::-1])  # my_list[start(開始的index):end(結束的index):sep(間隔)]"
   ]
  },
  {
   "attachments": {},
   "cell_type": "markdown",
   "metadata": {},
   "source": [
    "### 選擇"
   ]
  },
  {
   "cell_type": "code",
   "execution_count": 8,
   "metadata": {},
   "outputs": [],
   "source": [
    "def selection(data, pop):\n",
    "    ran_F = random.choices(pop, k=2)\n",
    "    ran_M = random.choices(pop, k=2)\n",
    "    \n",
    "    ran_F, sort_F = fitness(data, ran_F)\n",
    "    ran_M, sort_M = fitness(data, ran_M)\n",
    "\n",
    "    father = ran_F[0]\n",
    "    mother = ran_M[0]\n",
    "\n",
    "    return father, mother"
   ]
  },
  {
   "attachments": {},
   "cell_type": "markdown",
   "metadata": {},
   "source": [
    "### 交配"
   ]
  },
  {
   "cell_type": "code",
   "execution_count": 9,
   "metadata": {},
   "outputs": [],
   "source": [
    "def cross(data, pop, cross_rate=0.7):\n",
    "    pop_size, dna_len = np.array(pop).shape\n",
    "    new_pop = []\n",
    "    while len(new_pop) != pop_size:\n",
    "        father, mother = selection(data, pop)\n",
    "\n",
    "        if np.random.rand() < cross_rate:\n",
    "            cross_point = np.random.randint(low=0, high=dna_len)\n",
    "            cut_F = father[cross_point:].copy()\n",
    "            cut_M = mother[cross_point:].copy()\n",
    "            father[cross_point:] = cut_M\n",
    "            mother[cross_point:] = cut_F\n",
    "            \n",
    "        new_pop.extend([father, mother])\n",
    "        \n",
    "    return new_pop"
   ]
  },
  {
   "attachments": {},
   "cell_type": "markdown",
   "metadata": {},
   "source": [
    "### 變異"
   ]
  },
  {
   "cell_type": "code",
   "execution_count": 10,
   "metadata": {},
   "outputs": [],
   "source": [
    "def mutation(cross_pop, mutation_rate=0.005):\n",
    "    pop_size, dna_len = np.array(cross_pop).shape\n",
    "    new_pop = []\n",
    "    for i in range(pop_size):\n",
    "        if np.random.rand() < mutation_rate:\n",
    "            mutation_point = np.random.randint(low=0, high=dna_len)\n",
    "            if cross_pop[i][mutation_point] == 0:\n",
    "                cross_pop[i][mutation_point] = 1\n",
    "            else:\n",
    "                cross_pop[i][mutation_point] = 0\n",
    "                \n",
    "        new_pop.append(cross_pop[i])\n",
    "\n",
    "    return new_pop"
   ]
  },
  {
   "attachments": {},
   "cell_type": "markdown",
   "metadata": {},
   "source": [
    "### 分析"
   ]
  },
  {
   "attachments": {},
   "cell_type": "markdown",
   "metadata": {},
   "source": [
    "#### 計算種群適應度最佳值及平均值"
   ]
  },
  {
   "cell_type": "code",
   "execution_count": 11,
   "metadata": {},
   "outputs": [],
   "source": [
    "def best_avg_fitness(score):\n",
    "    return np.round(np.max(score), 10), np.round(np.mean(score), 10)"
   ]
  },
  {
   "attachments": {},
   "cell_type": "markdown",
   "metadata": {},
   "source": [
    "#### 繪製種群狀態"
   ]
  },
  {
   "cell_type": "code",
   "execution_count": 12,
   "metadata": {},
   "outputs": [],
   "source": [
    "def draw_fitness(run, best_pop, avg_pop):\n",
    "    plt.title(\"Best & Avg fitness\") # 圖表標題\n",
    "    plt.xlabel(\"Generation\") # 圖表x軸標題\n",
    "    plt.ylabel(\"fitness\") # 圖表y軸標題\n",
    "    plt.plot(run, best_pop, color='r', label='Best fitness', linestyle='-', marker='*') # 定義畫圖的顏色、圖例、線條、形狀、寬度\n",
    "    plt.plot(run, avg_pop, color='b', label='Avg fitness', linestyle='--', marker='o') # 定義畫圖的顏色、圖例、線條、形狀、寬度\n",
    "    plt.grid(axis='y') # 定義網格\n",
    "    plt.legend(loc='lower right') # 當有兩種以上資料，可以使用.legend()來顯示資料的圖例\n",
    "    plt.savefig('XGBoost.png')"
   ]
  },
  {
   "attachments": {},
   "cell_type": "markdown",
   "metadata": {},
   "source": [
    "#### 策略"
   ]
  },
  {
   "cell_type": "code",
   "execution_count": 13,
   "metadata": {},
   "outputs": [],
   "source": [
    "strategy_money = []\n",
    "start_money = 10000  # 初始金額\n",
    "\n",
    "def strategy(predict_data, TV):\n",
    "    df = pd.read_excel('./top200_training.xls')\n",
    "    stocks_data = df.drop(['年月', 'Return', 'ReturnMean_year_Label'], axis=1)\n",
    "    stocks_name = df['簡稱'].unique()\n",
    "    current_stock = dict()\n",
    "    for n in stocks_name:\n",
    "        current_stock[n] = 0\n",
    "    current_money = start_money\n",
    "\n",
    "    # 策略\n",
    "    for pre_times in range(12 - TV):\n",
    "        tmp = 0\n",
    "        tmp_stock = []\n",
    "        for i in range(200):\n",
    "            # 賣出\n",
    "            if predict_data[pre_times * 200 + i] == 0:\n",
    "                predict_name = stocks_data[\"簡稱\"][(TV + pre_times) * 200 + i]\n",
    "                current_money += stocks_data[\"收盤價(元)_年\"][(TV + pre_times) * 200 + i] * current_stock[predict_name]\n",
    "                current_stock[predict_name] = 0\n",
    "\n",
    "            # 紀錄要買哪隻和每隻要分多少錢下去\n",
    "            if predict_data[pre_times * 200 + i] == 1:\n",
    "                tmp += 1\n",
    "                tmp_stock.append(i)\n",
    "\n",
    "        if tmp:\n",
    "            per_money = current_money / tmp\n",
    "            for j in tmp_stock:\n",
    "                # 買入\n",
    "                if stocks_data[\"收盤價(元)_年\"][(TV + pre_times) * 200 + j] != 0:\n",
    "                    predict_name = stocks_data[\"簡稱\"][(TV + pre_times) * 200 + j]\n",
    "                    current_stock[predict_name] += per_money / stocks_data[\"收盤價(元)_年\"][(TV + pre_times) * 200 + j]\n",
    "\n",
    "            current_money = 0\n",
    "\n",
    "    # 折現\n",
    "    for i in range(2400, 2600):\n",
    "        stocks_name = stocks_data[\"簡稱\"][i]\n",
    "        current_money += current_stock[stocks_name] * stocks_data[\"收盤價(元)_年\"][i]\n",
    "\n",
    "    #* 最後一年無法折現的股票以均價計算其價值\n",
    "    current_money += sum(current_stock.values()) * np.mean(stocks_data[\"收盤價(元)_年\"])\n",
    "    \n",
    "    strategy_money.append(math.floor(current_money))"
   ]
  },
  {
   "attachments": {},
   "cell_type": "markdown",
   "metadata": {},
   "source": [
    "#### 計算IRR"
   ]
  },
  {
   "cell_type": "code",
   "execution_count": 14,
   "metadata": {},
   "outputs": [],
   "source": [
    "def ROI():\n",
    "    ROI = []\n",
    "    for i in range(len(strategy_money)):\n",
    "        ROI.append((strategy_money[i] - start_money) / start_money)\n",
    "    return ROI\n",
    "\n",
    "def IRR():\n",
    "    IRR = []\n",
    "    roi = ROI()\n",
    "    for i in range(len(roi)):\n",
    "        IRR.append(((roi[i] + 1) ** (1 / (11 - i)) - 1) * 100)\n",
    "        \n",
    "    print(\"IRR:\", IRR)\n",
    "\n",
    "    plt.plot(IRR)\n",
    "    plt.xlabel(\"Train_time(year)\")\n",
    "    plt.ylabel(\"Strategy IRR(%)\")\n",
    "    plt.show()"
   ]
  },
  {
   "attachments": {},
   "cell_type": "markdown",
   "metadata": {},
   "source": [
    "## Main Function"
   ]
  },
  {
   "cell_type": "code",
   "execution_count": 15,
   "metadata": {},
   "outputs": [
    {
     "name": "stdout",
     "output_type": "stream",
     "text": [
      "[TV1]\n",
      "Best_Chromosome: [1 1 1 1 0 0 1 1 1 1 1 1 1 0 1 0 1 0 1 1 1 1 0 1 1 1 1 1 1 1 1 1 1 1 0 1 0\n",
      " 1 1 0]\n",
      "測試結果:\n",
      "score: 0.6366666666666667\n",
      "strategy_money:  132537\n",
      "[TV2]\n",
      "Best_Chromosome: [1 1 1 0 1 1 1 0 1 0 1 1 1 1 0 1 1 1 1 1 0 1 1 1 1 1 1 1 1 1 1 1 1 1 0 0 0\n",
      " 1 1 0]\n",
      "測試結果:\n",
      "score: 0.6163636363636363\n",
      "strategy_money:  10000\n",
      "[TV3]\n",
      "Best_Chromosome: [1 1 1 1 1 1 1 0 1 1 0 1 1 1 1 1 0 0 0 0 1 0 0 0 0 1 1 1 0 1 1 0 1 1 0 0 0\n",
      " 1 1 1]\n",
      "測試結果:\n",
      "score: 0.6395\n",
      "strategy_money:  101948\n"
     ]
    },
    {
     "ename": "KeyboardInterrupt",
     "evalue": "",
     "output_type": "error",
     "traceback": [
      "\u001b[1;31m---------------------------------------------------------------------------\u001b[0m",
      "\u001b[1;31mKeyboardInterrupt\u001b[0m                         Traceback (most recent call last)",
      "\u001b[1;32me:\\AI_Finance\\Project\\final\\GA_param_XGBoost_Strategy.ipynb Cell 31\u001b[0m in \u001b[0;36m<cell line: 1>\u001b[1;34m()\u001b[0m\n\u001b[0;32m     <a href='vscode-notebook-cell:/e%3A/AI_Finance/Project/final/GA_param_XGBoost_Strategy.ipynb#X42sZmlsZQ%3D%3D?line=36'>37</a>\u001b[0m pop \u001b[39m=\u001b[39m mutation_pop\n\u001b[0;32m     <a href='vscode-notebook-cell:/e%3A/AI_Finance/Project/final/GA_param_XGBoost_Strategy.ipynb#X42sZmlsZQ%3D%3D?line=37'>38</a>\u001b[0m i \u001b[39m+\u001b[39m\u001b[39m=\u001b[39m \u001b[39m1\u001b[39m\n\u001b[1;32m---> <a href='vscode-notebook-cell:/e%3A/AI_Finance/Project/final/GA_param_XGBoost_Strategy.ipynb#X42sZmlsZQ%3D%3D?line=39'>40</a>\u001b[0m pop, score \u001b[39m=\u001b[39m fitness(data, pop)\n\u001b[0;32m     <a href='vscode-notebook-cell:/e%3A/AI_Finance/Project/final/GA_param_XGBoost_Strategy.ipynb#X42sZmlsZQ%3D%3D?line=40'>41</a>\u001b[0m \u001b[39m# print(f\"Best chromosome: {pop[0]}\")\u001b[39;00m\n\u001b[0;32m     <a href='vscode-notebook-cell:/e%3A/AI_Finance/Project/final/GA_param_XGBoost_Strategy.ipynb#X42sZmlsZQ%3D%3D?line=41'>42</a>\u001b[0m best_fitness, average_fitness \u001b[39m=\u001b[39m best_avg_fitness(score)\n",
      "\u001b[1;32me:\\AI_Finance\\Project\\final\\GA_param_XGBoost_Strategy.ipynb Cell 31\u001b[0m in \u001b[0;36mfitness\u001b[1;34m(data, pop)\u001b[0m\n\u001b[0;32m     <a href='vscode-notebook-cell:/e%3A/AI_Finance/Project/final/GA_param_XGBoost_Strategy.ipynb#X42sZmlsZQ%3D%3D?line=15'>16</a>\u001b[0m d_test \u001b[39m=\u001b[39m xgb\u001b[39m.\u001b[39mDMatrix(test_data\u001b[39m.\u001b[39mvalues[:, attribute], label\u001b[39m=\u001b[39mtest_label)\n\u001b[0;32m     <a href='vscode-notebook-cell:/e%3A/AI_Finance/Project/final/GA_param_XGBoost_Strategy.ipynb#X42sZmlsZQ%3D%3D?line=17'>18</a>\u001b[0m param \u001b[39m=\u001b[39m {\n\u001b[0;32m     <a href='vscode-notebook-cell:/e%3A/AI_Finance/Project/final/GA_param_XGBoost_Strategy.ipynb#X42sZmlsZQ%3D%3D?line=18'>19</a>\u001b[0m     \u001b[39m'\u001b[39m\u001b[39mobjective\u001b[39m\u001b[39m'\u001b[39m:\u001b[39m'\u001b[39m\u001b[39mbinary:logistic\u001b[39m\u001b[39m'\u001b[39m,\n\u001b[0;32m     <a href='vscode-notebook-cell:/e%3A/AI_Finance/Project/final/GA_param_XGBoost_Strategy.ipynb#X42sZmlsZQ%3D%3D?line=19'>20</a>\u001b[0m     \u001b[39m'\u001b[39m\u001b[39mlearning_rate\u001b[39m\u001b[39m'\u001b[39m: \u001b[39m0.01\u001b[39m \u001b[39m+\u001b[39m decode(chromosome[\u001b[39m16\u001b[39m:\u001b[39m20\u001b[39m])\u001b[39m.\u001b[39mastype(\u001b[39m'\u001b[39m\u001b[39mint8\u001b[39m\u001b[39m'\u001b[39m) \u001b[39m*\u001b[39m \u001b[39m0.05\u001b[39m, \u001b[39m# [0.01, 1] -> 4bits\u001b[39;00m\n\u001b[1;32m   (...)\u001b[0m\n\u001b[0;32m     <a href='vscode-notebook-cell:/e%3A/AI_Finance/Project/final/GA_param_XGBoost_Strategy.ipynb#X42sZmlsZQ%3D%3D?line=26'>27</a>\u001b[0m     \u001b[39m'\u001b[39m\u001b[39mseed\u001b[39m\u001b[39m'\u001b[39m: \u001b[39m24\u001b[39m\n\u001b[0;32m     <a href='vscode-notebook-cell:/e%3A/AI_Finance/Project/final/GA_param_XGBoost_Strategy.ipynb#X42sZmlsZQ%3D%3D?line=27'>28</a>\u001b[0m }\n\u001b[1;32m---> <a href='vscode-notebook-cell:/e%3A/AI_Finance/Project/final/GA_param_XGBoost_Strategy.ipynb#X42sZmlsZQ%3D%3D?line=28'>29</a>\u001b[0m model \u001b[39m=\u001b[39m xgb\u001b[39m.\u001b[39;49mtrain(param, d_train, num_boost_round\u001b[39m=\u001b[39;49m\u001b[39m100\u001b[39;49m)\n\u001b[0;32m     <a href='vscode-notebook-cell:/e%3A/AI_Finance/Project/final/GA_param_XGBoost_Strategy.ipynb#X42sZmlsZQ%3D%3D?line=29'>30</a>\u001b[0m predictions \u001b[39m=\u001b[39m model\u001b[39m.\u001b[39mpredict(d_test)\n\u001b[0;32m     <a href='vscode-notebook-cell:/e%3A/AI_Finance/Project/final/GA_param_XGBoost_Strategy.ipynb#X42sZmlsZQ%3D%3D?line=30'>31</a>\u001b[0m predictions[predictions \u001b[39m>\u001b[39m\u001b[39m=\u001b[39m \u001b[39m0.5\u001b[39m] \u001b[39m=\u001b[39m \u001b[39m1\u001b[39m\n",
      "File \u001b[1;32mc:\\Users\\陳柏安\\AppData\\Local\\Programs\\Python\\Python310\\lib\\site-packages\\xgboost\\core.py:620\u001b[0m, in \u001b[0;36mrequire_keyword_args.<locals>.throw_if.<locals>.inner_f\u001b[1;34m(*args, **kwargs)\u001b[0m\n\u001b[0;32m    618\u001b[0m \u001b[39mfor\u001b[39;00m k, arg \u001b[39min\u001b[39;00m \u001b[39mzip\u001b[39m(sig\u001b[39m.\u001b[39mparameters, args):\n\u001b[0;32m    619\u001b[0m     kwargs[k] \u001b[39m=\u001b[39m arg\n\u001b[1;32m--> 620\u001b[0m \u001b[39mreturn\u001b[39;00m func(\u001b[39m*\u001b[39m\u001b[39m*\u001b[39mkwargs)\n",
      "File \u001b[1;32mc:\\Users\\陳柏安\\AppData\\Local\\Programs\\Python\\Python310\\lib\\site-packages\\xgboost\\training.py:185\u001b[0m, in \u001b[0;36mtrain\u001b[1;34m(params, dtrain, num_boost_round, evals, obj, feval, maximize, early_stopping_rounds, evals_result, verbose_eval, xgb_model, callbacks, custom_metric)\u001b[0m\n\u001b[0;32m    183\u001b[0m \u001b[39mif\u001b[39;00m cb_container\u001b[39m.\u001b[39mbefore_iteration(bst, i, dtrain, evals):\n\u001b[0;32m    184\u001b[0m     \u001b[39mbreak\u001b[39;00m\n\u001b[1;32m--> 185\u001b[0m bst\u001b[39m.\u001b[39;49mupdate(dtrain, i, obj)\n\u001b[0;32m    186\u001b[0m \u001b[39mif\u001b[39;00m cb_container\u001b[39m.\u001b[39mafter_iteration(bst, i, dtrain, evals):\n\u001b[0;32m    187\u001b[0m     \u001b[39mbreak\u001b[39;00m\n",
      "File \u001b[1;32mc:\\Users\\陳柏安\\AppData\\Local\\Programs\\Python\\Python310\\lib\\site-packages\\xgboost\\core.py:1918\u001b[0m, in \u001b[0;36mBooster.update\u001b[1;34m(self, dtrain, iteration, fobj)\u001b[0m\n\u001b[0;32m   1915\u001b[0m \u001b[39mself\u001b[39m\u001b[39m.\u001b[39m_validate_dmatrix_features(dtrain)\n\u001b[0;32m   1917\u001b[0m \u001b[39mif\u001b[39;00m fobj \u001b[39mis\u001b[39;00m \u001b[39mNone\u001b[39;00m:\n\u001b[1;32m-> 1918\u001b[0m     _check_call(_LIB\u001b[39m.\u001b[39;49mXGBoosterUpdateOneIter(\u001b[39mself\u001b[39;49m\u001b[39m.\u001b[39;49mhandle,\n\u001b[0;32m   1919\u001b[0m                                             ctypes\u001b[39m.\u001b[39;49mc_int(iteration),\n\u001b[0;32m   1920\u001b[0m                                             dtrain\u001b[39m.\u001b[39;49mhandle))\n\u001b[0;32m   1921\u001b[0m \u001b[39melse\u001b[39;00m:\n\u001b[0;32m   1922\u001b[0m     pred \u001b[39m=\u001b[39m \u001b[39mself\u001b[39m\u001b[39m.\u001b[39mpredict(dtrain, output_margin\u001b[39m=\u001b[39m\u001b[39mTrue\u001b[39;00m, training\u001b[39m=\u001b[39m\u001b[39mTrue\u001b[39;00m)\n",
      "\u001b[1;31mKeyboardInterrupt\u001b[0m: "
     ]
    }
   ],
   "source": [
    "if __name__==\"__main__\":\n",
    "    for TV in range(1, 12):\n",
    "        file_path = './top200_training.xls'\n",
    "        stock = preprocessing(file_path)\n",
    "        normalized_stock = normalization(stock)\n",
    "        train_data, train_label, test_data, test_label = split_train_test(normalized_stock, TV)\n",
    "        #* Remap the labels\n",
    "        train_label = train_label.map({-1:0, 1:1})\n",
    "        test_label = test_label.map({-1:0, 1:1})\n",
    "        \n",
    "        data = [train_data, train_label, test_data, test_label]\n",
    "        \n",
    "        #* 設定GA參數\n",
    "        POP_SIZE = 80 # 種群大小\n",
    "        DNA_LEN = 40 # 染色體長度: 16個特徵、24個參數\n",
    "        \n",
    "        cross_rate = 0.7 # 交配機率\n",
    "        mutation_rate = 0.001 # 變異機率\n",
    "        \n",
    "        #* 初始種群\n",
    "        pop = initial_population(POP_SIZE, DNA_LEN)\n",
    "\n",
    "        #* 迭代次數\n",
    "        generation_num = 30\n",
    "        \n",
    "        #* early stopping\n",
    "        overfit_num = 0\n",
    "        \n",
    "        i = 0\n",
    "        best_fitness_list = []\n",
    "        avg_fitness_list = []\n",
    "        run = []\n",
    "        while overfit_num < 3 and i < generation_num: # best fitness & average fitness 連續相等3次則中斷\n",
    "            # print(f\"[Generation {i + 1}]\")\n",
    "            cross_pop = cross(data, pop, cross_rate) # 選擇 -> 交配\n",
    "            mutation_pop = mutation(cross_pop, mutation_rate) # 變異\n",
    "            pop = mutation_pop\n",
    "            i += 1\n",
    "            \n",
    "            pop, score = fitness(data, pop)\n",
    "            # print(f\"Best chromosome: {pop[0]}\")\n",
    "            best_fitness, average_fitness = best_avg_fitness(score)\n",
    "            # print(f\"Best fitness: {best_fitness}\")\n",
    "            # print(f\"Avg fitness: {average_fitness}\\n\")\n",
    "            best_fitness_list.append(best_fitness)\n",
    "            avg_fitness_list.append(average_fitness)\n",
    "            run.append(i + 1)\n",
    "            \n",
    "            #* early stopping\n",
    "            if best_fitness == average_fitness:\n",
    "                overfit_num += 1\n",
    "            else:\n",
    "                overfit_num = 0\n",
    "            \n",
    "        print(f\"[TV{TV}]\")\n",
    "        best_chromosome = pop[0]\n",
    "        print(f\"Best_Chromosome: {best_chromosome.astype('int8')}\")\n",
    "        \n",
    "        #! test result\n",
    "        print(f\"測試結果:\")\n",
    "        attribute = best_chromosome[:16]\n",
    "        d_train = xgb.DMatrix(train_data.values[:, attribute], label=train_label)\n",
    "        d_test = xgb.DMatrix(test_data.values[:, attribute], label=test_label)\n",
    "            \n",
    "        param = {\n",
    "            'objective':'binary:logistic',\n",
    "            'learning_rate': 0.01 + decode(best_chromosome[16:20]).astype('int8') * 0.05, # [0.01, 1] -> 4bits\n",
    "            'eta': 0.01 + decode(best_chromosome[20:24]).astype('int8') * 0.01, # [0.01, 0.2] -> 4bits \n",
    "            'max_depth': 2 + decode(best_chromosome[24:27]).astype('int8'), # [1, 10] -> 3bits\n",
    "            'min_child_weight': 1 + decode(best_chromosome[27:30]).astype('int8'), # [0.01, 10.0] -> 3bits\n",
    "            'gamma': 0.1 + decode(best_chromosome[30:34]).astype('int8') * 0.5, # [0.01, 10.0] -> 4bits\n",
    "            'subsample': 0.1 + decode(best_chromosome[34:37]).astype('int8') * 0.1, # [0.01, 1] -> 3bits\n",
    "            'colsample_bytree': 0.1 + decode(best_chromosome[37:40]).astype('int8') * 0.1, # [0.01, 1] -> 3bits\n",
    "            'seed': 24\n",
    "        }\n",
    "        test_model = xgb.train(param, d_train, num_boost_round=100)\n",
    "        \n",
    "        #* predict label\n",
    "        predictions = test_model.predict(d_test)\n",
    "        predictions[predictions >= 0.5] = 1\n",
    "        predictions[predictions < 0.5] = 0\n",
    "        # print(predictions)\n",
    "        \n",
    "        #* test accuracy\n",
    "        test_score = metrics.accuracy_score(test_label, predictions)\n",
    "        print(f\"score: {test_score}\")\n",
    "        \n",
    "        strategy(predictions, TV)\n",
    "        print('strategy_money: ', strategy_money[TV - 1])\n",
    "        \n",
    "        #! fitness picture\n",
    "        # draw_fitness(run, best_fitness_list, avg_fitness_list)\n",
    "        \n",
    "    IRR()\n",
    "    print('strategy_money: ', strategy_money)"
   ]
  }
 ],
 "metadata": {
  "kernelspec": {
   "display_name": "Python 3",
   "language": "python",
   "name": "python3"
  },
  "language_info": {
   "codemirror_mode": {
    "name": "ipython",
    "version": 3
   },
   "file_extension": ".py",
   "mimetype": "text/x-python",
   "name": "python",
   "nbconvert_exporter": "python",
   "pygments_lexer": "ipython3",
   "version": "3.10.3"
  },
  "orig_nbformat": 4,
  "vscode": {
   "interpreter": {
    "hash": "8e2fdfaba40b754b78c79fd14f3ea3f51484489fc81ab2e0ca96f8f821a6887f"
   }
  }
 },
 "nbformat": 4,
 "nbformat_minor": 2
}
