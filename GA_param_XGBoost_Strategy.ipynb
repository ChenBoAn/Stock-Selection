{
 "cells": [
  {
   "cell_type": "code",
   "execution_count": 46,
   "metadata": {},
   "outputs": [],
   "source": [
    "import datetime\n",
    "import pandas as pd\n",
    "from sklearn.preprocessing import StandardScaler, MinMaxScaler\n",
    "import xgboost as xgb\n",
    "from sklearn import metrics\n",
    "import matplotlib.pyplot as plt\n",
    "import numpy as np\n",
    "import random\n",
    "import math"
   ]
  },
  {
   "attachments": {},
   "cell_type": "markdown",
   "metadata": {},
   "source": [
    "## Data Preprocessing"
   ]
  },
  {
   "cell_type": "code",
   "execution_count": 47,
   "metadata": {},
   "outputs": [],
   "source": [
    "def preprocessing(file):\n",
    "    #* 讀取資料\n",
    "    stock_data = pd.read_excel(file)\n",
    "    stock_data = stock_data.drop(columns=['證券代碼'])\n",
    "    #? print(stock_data)\n",
    "\n",
    "    #* 擷取股票年月與簡稱\n",
    "    stock_year = stock_data['年月'].unique()\n",
    "    stock_name = stock_data['簡稱'].unique()\n",
    "    #? print(stock_year)\n",
    "    #? print(stock_name)\n",
    "\n",
    "    #* 移除第2009年\n",
    "    stock = stock_data[stock_data['年月'].isin(stock_year[:-1])]\n",
    "    #? print(stock)\n",
    "    \n",
    "    return stock_data"
   ]
  },
  {
   "attachments": {},
   "cell_type": "markdown",
   "metadata": {},
   "source": [
    "## Normalization"
   ]
  },
  {
   "cell_type": "code",
   "execution_count": 48,
   "metadata": {},
   "outputs": [],
   "source": [
    "def normalization(data):\n",
    "    for col in data.columns[2:-2]:\n",
    "        data[col] = (data[col] - data[col].min()) / (data[col].max() - data[col].min())\n",
    "        \n",
    "    return data"
   ]
  },
  {
   "attachments": {},
   "cell_type": "markdown",
   "metadata": {},
   "source": [
    "## Split train and test by TV(1997~2008)"
   ]
  },
  {
   "cell_type": "code",
   "execution_count": 49,
   "metadata": {},
   "outputs": [],
   "source": [
    "def split_train_test(stock, TV):\n",
    "    #* 擷取股票年月與\n",
    "    stock_year = stock['年月'].unique()\n",
    "    \n",
    "    basic_train_data = stock[stock['年月'].isin(stock_year[:TV])]\n",
    "    train_label = basic_train_data['ReturnMean_year_Label']\n",
    "    train_data = basic_train_data.drop(columns=['簡稱', '年月', 'Return', 'ReturnMean_year_Label'])\n",
    "\n",
    "    basic_test_data = stock[stock['年月'].isin(stock_year[TV:])]\n",
    "    test_label = basic_test_data['ReturnMean_year_Label']\n",
    "    test_data = basic_test_data.drop(columns=['簡稱', '年月', 'Return', 'ReturnMean_year_Label'])\n",
    "    \n",
    "    return train_data, train_label, test_data, test_label"
   ]
  },
  {
   "attachments": {},
   "cell_type": "markdown",
   "metadata": {},
   "source": [
    "## Genetic Algorithm"
   ]
  },
  {
   "attachments": {},
   "cell_type": "markdown",
   "metadata": {},
   "source": [
    "### 染色體解碼"
   ]
  },
  {
   "cell_type": "code",
   "execution_count": 50,
   "metadata": {},
   "outputs": [],
   "source": [
    "def decode(chromosome):\n",
    "    dna_len = len(chromosome)\n",
    "    code = 0\n",
    "    for i in range(dna_len):\n",
    "        gene = dna_len - i - 1\n",
    "        code += chromosome[gene] * (2**i)\n",
    "    \n",
    "    return code"
   ]
  },
  {
   "attachments": {},
   "cell_type": "markdown",
   "metadata": {},
   "source": [
    "### 初始種群"
   ]
  },
  {
   "cell_type": "code",
   "execution_count": 51,
   "metadata": {},
   "outputs": [],
   "source": [
    "def initial_population(pop_num, dna_length):\n",
    "    population = []\n",
    "    for i in range(pop_num):\n",
    "        chromosome = np.ones(dna_length, np.bool8)     \n",
    "        chromosome[:int(0.3 * dna_length)] = False             \n",
    "        np.random.shuffle(chromosome)\n",
    "        population.append(chromosome)\n",
    "    # print(population)\n",
    "    return population"
   ]
  },
  {
   "attachments": {},
   "cell_type": "markdown",
   "metadata": {},
   "source": [
    "### 適應度"
   ]
  },
  {
   "cell_type": "code",
   "execution_count": 52,
   "metadata": {},
   "outputs": [],
   "source": [
    "def fitness(data, pop):\n",
    "    train_data, train_label, test_data, test_label = data\n",
    "    '''\n",
    "    learningRate: [0.01, 1], 2) -> 3bits\n",
    "    nEstimators: [10, 1500], step = 25) -> 4bits \n",
    "    maxDepth: [1, 10], step= 1)) -> 3bits\n",
    "    minChildWeight: [0.01, 10.0], 2) -> 3bits\n",
    "    gammaValue: [0.01, 10.0], 2) -> 3bits\n",
    "    subSample: [0.01, 1], 2) -> 3bits\n",
    "    colSampleByTree: [0.01, 1], 2) -> 3bits\n",
    "    '''\n",
    "    scores = []\n",
    "    for chromosome in pop:\n",
    "        attribute = chromosome[:16]\n",
    "        d_train = xgb.DMatrix(train_data.values[:, attribute], label=train_label)\n",
    "        d_test = xgb.DMatrix(test_data.values[:, attribute], label=test_label)\n",
    "        \n",
    "        param = {\n",
    "            'objective':'binary:logistic',\n",
    "            'learning_rate': 0.01 + decode(chromosome[16:20].astype('int8') * 0.05), # [0.01, 1] -> 4bits\n",
    "            'eta': 0.01 + decode(chromosome[20:24].astype('int8') * 0.01), # [0.01, 0.2] -> 4bits \n",
    "            'max_depth': 2 + decode(chromosome[24:27].astype('int8')), # [1, 10] -> 3bits\n",
    "            'min_child_weight': 0.1 + decode(chromosome[27:30].astype('int8')), # [0.01, 10.0] -> 3bits\n",
    "            'gamma': 0.1 + decode(chromosome[30:34].astype('int8') * 0.5), # [0.01, 10.0] -> 4bits\n",
    "            'subsample': 0.1 + decode(chromosome[34:37].astype('int8') * 0.1), # [0.01, 1] -> 3bits\n",
    "            'colsample_bytree': 0.1 + decode(chromosome[37:40].astype('int8') * 0.1), # [0.01, 1] -> 3bits\n",
    "            'seed': 24\n",
    "        }\n",
    "        model = xgb.train(param, d_train, num_boost_round=100)\n",
    "        predictions = model.predict(d_test)\n",
    "        predictions[predictions >= 0.5] = 1\n",
    "        predictions[predictions < 0.5] = 0\n",
    "        test_score = metrics.accuracy_score(test_label, predictions)\n",
    "        scores.append(test_score) # 準確率\n",
    "        \n",
    "    scores, pop = np.array(scores), np.array(pop) \n",
    "    inds = np.argsort(scores)\n",
    "    return list(pop[inds, :][::-1]), list(scores[inds][::-1])  # my_list[start(開始的index):end(結束的index):sep(間隔)]"
   ]
  },
  {
   "attachments": {},
   "cell_type": "markdown",
   "metadata": {},
   "source": [
    "### 選擇"
   ]
  },
  {
   "cell_type": "code",
   "execution_count": 53,
   "metadata": {},
   "outputs": [],
   "source": [
    "def selection(data, pop):\n",
    "    ran_F = random.choices(pop, k=2)\n",
    "    ran_M = random.choices(pop, k=2)\n",
    "    \n",
    "    ran_F, sort_F = fitness(data, ran_F)\n",
    "    ran_M, sort_M = fitness(data, ran_M)\n",
    "\n",
    "    father = ran_F[0]\n",
    "    mother = ran_M[0]\n",
    "\n",
    "    return father, mother"
   ]
  },
  {
   "attachments": {},
   "cell_type": "markdown",
   "metadata": {},
   "source": [
    "### 交配"
   ]
  },
  {
   "cell_type": "code",
   "execution_count": 54,
   "metadata": {},
   "outputs": [],
   "source": [
    "def cross(data, pop, cross_rate=0.7):\n",
    "    pop_size, dna_len = np.array(pop).shape\n",
    "    new_pop = []\n",
    "    while len(new_pop) != pop_size:\n",
    "        father, mother = selection(data, pop)\n",
    "\n",
    "        if np.random.rand() < cross_rate:\n",
    "            cross_point = np.random.randint(low=0, high=dna_len)\n",
    "            cut_F = father[cross_point:].copy()\n",
    "            cut_M = mother[cross_point:].copy()\n",
    "            father[cross_point:] = cut_M\n",
    "            mother[cross_point:] = cut_F\n",
    "            \n",
    "        new_pop.extend([father, mother])\n",
    "        \n",
    "    return new_pop"
   ]
  },
  {
   "attachments": {},
   "cell_type": "markdown",
   "metadata": {},
   "source": [
    "### 變異"
   ]
  },
  {
   "cell_type": "code",
   "execution_count": 55,
   "metadata": {},
   "outputs": [],
   "source": [
    "def mutation(cross_pop, mutation_rate=0.005):\n",
    "    pop_size, dna_len = np.array(cross_pop).shape\n",
    "    new_pop = []\n",
    "    for i in range(pop_size):\n",
    "        if np.random.rand() < mutation_rate:\n",
    "            mutation_point = np.random.randint(low=0, high=dna_len)\n",
    "            if cross_pop[i][mutation_point] == 0:\n",
    "                cross_pop[i][mutation_point] = 1\n",
    "            else:\n",
    "                cross_pop[i][mutation_point] = 0\n",
    "                \n",
    "        new_pop.append(cross_pop[i])\n",
    "\n",
    "    return new_pop"
   ]
  },
  {
   "attachments": {},
   "cell_type": "markdown",
   "metadata": {},
   "source": [
    "### 分析"
   ]
  },
  {
   "attachments": {},
   "cell_type": "markdown",
   "metadata": {},
   "source": [
    "#### 計算種群適應度最佳值及平均值"
   ]
  },
  {
   "cell_type": "code",
   "execution_count": 56,
   "metadata": {},
   "outputs": [],
   "source": [
    "def best_avg_fitness(score):\n",
    "    return np.round(np.max(score), 10), np.round(np.mean(score), 10)"
   ]
  },
  {
   "attachments": {},
   "cell_type": "markdown",
   "metadata": {},
   "source": [
    "#### 繪製種群狀態"
   ]
  },
  {
   "cell_type": "code",
   "execution_count": 57,
   "metadata": {},
   "outputs": [],
   "source": [
    "def draw_fitness(run, best_pop, avg_pop):\n",
    "    plt.title(\"Best & Avg fitness\") # 圖表標題\n",
    "    plt.xlabel(\"Generation\") # 圖表x軸標題\n",
    "    plt.ylabel(\"fitness\") # 圖表y軸標題\n",
    "    plt.plot(run, best_pop, color='r', label='Best fitness', linestyle='-', marker='*') # 定義畫圖的顏色、圖例、線條、形狀、寬度\n",
    "    plt.plot(run, avg_pop, color='b', label='Avg fitness', linestyle='--', marker='o') # 定義畫圖的顏色、圖例、線條、形狀、寬度\n",
    "    plt.grid(axis='y') # 定義網格\n",
    "    plt.legend(loc='lower right') # 當有兩種以上資料，可以使用.legend()來顯示資料的圖例\n",
    "    plt.savefig('XGBoost.png')"
   ]
  },
  {
   "attachments": {},
   "cell_type": "markdown",
   "metadata": {},
   "source": [
    "#### 策略"
   ]
  },
  {
   "cell_type": "code",
   "execution_count": 58,
   "metadata": {},
   "outputs": [],
   "source": [
    "strategy_money = []\n",
    "start_money = 10000  # 初始金額\n",
    "\n",
    "def strategy(predict_data, TV):\n",
    "    df = pd.read_excel('./top200_training.xls')\n",
    "    stocks_data = df.drop(['年月', 'Return', 'ReturnMean_year_Label'], axis=1)\n",
    "    stocks_name = df['簡稱'].unique()\n",
    "    current_stock = dict()\n",
    "    for n in stocks_name:\n",
    "        current_stock[n] = 0\n",
    "    current_money = start_money\n",
    "\n",
    "    # 策略\n",
    "    for pre_times in range(12 - TV):\n",
    "        tmp = 0\n",
    "        tmp_stock = []\n",
    "        for i in range(200):\n",
    "            # 賣出\n",
    "            if predict_data[pre_times * 200 + i] == 0:\n",
    "                predict_name = stocks_data[\"簡稱\"][(TV + pre_times) * 200 + i]\n",
    "                current_money += stocks_data[\"收盤價(元)_年\"][(TV + pre_times) * 200 + i] * current_stock[predict_name]\n",
    "                current_stock[predict_name] = 0\n",
    "\n",
    "            # 紀錄要買哪隻和每隻要分多少錢下去\n",
    "            if predict_data[pre_times * 200 + i] == 1:\n",
    "                tmp += 1\n",
    "                tmp_stock.append(i)\n",
    "\n",
    "        if tmp:\n",
    "            per_money = current_money / tmp\n",
    "            for j in tmp_stock:\n",
    "                # 買入\n",
    "                if stocks_data[\"收盤價(元)_年\"][(TV + pre_times) * 200 + j] != 0:\n",
    "                    predict_name = stocks_data[\"簡稱\"][(TV + pre_times) * 200 + j]\n",
    "                    current_stock[predict_name] += per_money / stocks_data[\"收盤價(元)_年\"][(TV + pre_times) * 200 + j]\n",
    "\n",
    "            current_money = 0\n",
    "\n",
    "    # 折現\n",
    "    for i in range(2400, 2600):\n",
    "        stocks_name = stocks_data[\"簡稱\"][i]\n",
    "        current_money += current_stock[stocks_name] * stocks_data[\"收盤價(元)_年\"][i]\n",
    "\n",
    "    #* 最後一年無法折現的股票以均價計算其價值\n",
    "    current_money += sum(current_stock.values()) * np.mean(stocks_data[\"收盤價(元)_年\"])\n",
    "    \n",
    "    strategy_money.append(math.floor(current_money))"
   ]
  },
  {
   "attachments": {},
   "cell_type": "markdown",
   "metadata": {},
   "source": [
    "#### 計算IRR"
   ]
  },
  {
   "cell_type": "code",
   "execution_count": 59,
   "metadata": {},
   "outputs": [],
   "source": [
    "def ROI():\n",
    "    ROI = []\n",
    "    for i in range(len(strategy_money)):\n",
    "        ROI.append((strategy_money[i] - start_money) / start_money)\n",
    "    return ROI\n",
    "\n",
    "def IRR():\n",
    "    IRR = []\n",
    "    roi = ROI()\n",
    "    for i in range(len(roi)):\n",
    "        IRR.append(((roi[i] + 1) ** (1 / (11 - i)) - 1) * 100)\n",
    "        \n",
    "    print(\"IRR:\", IRR)\n",
    "\n",
    "    plt.plot(IRR)\n",
    "    plt.xlabel(\"Train_time(year)\")\n",
    "    plt.ylabel(\"Strategy IRR(%)\")\n",
    "    plt.show()"
   ]
  },
  {
   "attachments": {},
   "cell_type": "markdown",
   "metadata": {},
   "source": [
    "## Main Function"
   ]
  },
  {
   "cell_type": "code",
   "execution_count": 60,
   "metadata": {},
   "outputs": [
    {
     "name": "stdout",
     "output_type": "stream",
     "text": [
      "[TV1]\n",
      "Best_Chromosome: [0 1 1 1 0 0 1 1 0 0 0 0 0 1 1 0 0 1 1 1 0 1 1 1 1 1 1 1 1 0 0 1 0 1 0 0 1\n",
      " 1 1 0]\n",
      "測試結果:\n",
      "score: 0.6233333333333333\n",
      "strategy_money:  88531\n",
      "[TV2]\n",
      "Best_Chromosome: [0 1 1 1 1 0 0 1 1 1 0 0 0 0 1 1 0 0 0 1 1 0 1 1 1 1 1 1 1 0 1 1 1 0 1 0 1\n",
      " 0 0 0]\n",
      "測試結果:\n",
      "score: 0.6322727272727273\n",
      "strategy_money:  140272\n",
      "[TV3]\n",
      "Best_Chromosome: [0 1 1 1 0 0 0 1 1 1 1 1 1 1 0 0 0 0 0 0 1 1 1 1 0 0 1 1 1 1 1 1 1 1 1 1 1\n",
      " 0 0 1]\n",
      "測試結果:\n",
      "score: 0.6415\n",
      "strategy_money:  196036\n",
      "[TV4]\n",
      "Best_Chromosome: [0 1 0 1 0 1 1 0 1 1 1 1 1 1 1 1 0 0 0 0 0 1 1 0 1 1 0 1 0 1 1 1 1 1 0 1 1\n",
      " 1 1 1]\n",
      "測試結果:\n",
      "score: 0.6344444444444445\n",
      "strategy_money:  88110\n",
      "[TV5]\n",
      "Best_Chromosome: [0 0 1 1 1 1 1 1 1 1 1 0 1 1 1 1 0 0 0 1 0 1 1 1 0 0 1 1 1 1 1 1 1 1 1 1 1\n",
      " 1 0 1]\n",
      "測試結果:\n",
      "score: 0.64125\n",
      "strategy_money:  99518\n",
      "[TV6]\n",
      "Best_Chromosome: [1 1 1 1 0 0 0 1 1 1 1 0 1 0 0 0 0 0 0 1 1 1 1 1 0 0 1 1 1 1 1 1 1 1 1 0 1\n",
      " 0 1 0]\n",
      "測試結果:\n",
      "score: 0.6578571428571428\n",
      "strategy_money:  121525\n",
      "[TV7]\n",
      "Best_Chromosome: [0 0 1 1 1 1 0 1 1 0 1 1 1 0 1 1 0 0 0 0 1 1 1 1 0 0 1 1 0 1 1 1 1 0 1 0 0\n",
      " 0 1 1]\n",
      "測試結果:\n",
      "score: 0.6716666666666666\n",
      "strategy_money:  83709\n",
      "[TV8]\n",
      "Best_Chromosome: [0 1 1 1 0 0 0 0 1 1 1 1 1 0 1 1 0 0 0 1 1 1 0 1 0 1 1 1 0 1 1 1 1 1 1 0 1\n",
      " 1 1 1]\n",
      "測試結果:\n",
      "score: 0.692\n",
      "strategy_money:  59033\n",
      "[TV9]\n",
      "Best_Chromosome: [0 1 0 0 1 0 1 1 0 1 1 0 1 1 1 1 0 0 1 1 1 1 1 1 0 0 0 0 1 1 1 1 1 1 1 1 0\n",
      " 0 0 1]\n",
      "測試結果:\n",
      "score: 0.69375\n",
      "strategy_money:  50595\n",
      "[TV10]\n",
      "Best_Chromosome: [0 1 1 1 0 1 1 1 1 0 1 0 1 0 1 1 0 0 0 1 1 1 1 0 0 0 0 1 1 0 1 1 1 0 1 1 1\n",
      " 0 1 1]\n",
      "測試結果:\n",
      "score: 0.7316666666666667\n",
      "strategy_money:  38919\n",
      "[TV11]\n",
      "Best_Chromosome: [1 1 1 1 1 1 1 1 1 1 1 1 0 0 1 0 0 0 0 1 0 0 0 1 0 0 1 1 1 1 1 1 1 1 0 1 0\n",
      " 0 0 1]\n",
      "測試結果:\n",
      "score: 0.8275\n",
      "strategy_money:  59477\n",
      "IRR: [21.92691322312641, 30.225819448867263, 39.18513988831804, 31.2587155685228, 38.85367451509338, 51.627370985757004, 52.951743106394055, 55.874011932349774, 71.67321222200962, 97.27899026505584, 494.77000000000004]\n"
     ]
    },
    {
     "data": {
      "image/png": "[encoded data removed]",
      "text/plain": [
       "<Figure size 432x288 with 1 Axes>"
      ]
     },
     "metadata": {
      "needs_background": "light"
     },
     "output_type": "display_data"
    },
    {
     "name": "stdout",
     "output_type": "stream",
     "text": [
      "strategy_money:  [88531, 140272, 196036, 88110, 99518, 121525, 83709, 59033, 50595, 38919, 59477]\n"
     ]
    }
   ],
   "source": [
    "if __name__==\"__main__\":\n",
    "    for TV in range(1, 12):\n",
    "        file_path = './top200_training.xls'\n",
    "        stock = preprocessing(file_path)\n",
    "        normalized_stock = normalization(stock)\n",
    "        train_data, train_label, test_data, test_label = split_train_test(normalized_stock, TV)\n",
    "        #* Remap the labels\n",
    "        train_label = train_label.map({-1:0, 1:1})\n",
    "        test_label = test_label.map({-1:0, 1:1})\n",
    "        \n",
    "        data = [train_data, train_label, test_data, test_label]\n",
    "        \n",
    "        #* 設定GA參數\n",
    "        POP_SIZE = 80 # 種群大小\n",
    "        DNA_LEN = 40 # 染色體長度: 16個特徵、24個參數\n",
    "        \n",
    "        cross_rate = 0.7 # 交配機率\n",
    "        mutation_rate = 0.001 # 變異機率\n",
    "        \n",
    "        #* 初始種群\n",
    "        pop = initial_population(POP_SIZE, DNA_LEN)\n",
    "\n",
    "        #* 迭代次數\n",
    "        generation_num = 30\n",
    "        \n",
    "        #* early stopping\n",
    "        overfit_num = 0\n",
    "        \n",
    "        i = 0\n",
    "        best_fitness_list = []\n",
    "        avg_fitness_list = []\n",
    "        run = []\n",
    "        while overfit_num < 3 and i < generation_num: # best fitness & average fitness 連續相等3次則中斷\n",
    "            # print(f\"[Generation {i + 1}]\")\n",
    "            cross_pop = cross(data, pop, cross_rate) # 選擇 -> 交配\n",
    "            mutation_pop = mutation(cross_pop, mutation_rate) # 變異\n",
    "            pop = mutation_pop\n",
    "            i += 1\n",
    "            \n",
    "            pop, score = fitness(data, pop)\n",
    "            # print(f\"Best chromosome: {pop[0]}\")\n",
    "            best_fitness, average_fitness = best_avg_fitness(score)\n",
    "            # print(f\"Best fitness: {best_fitness}\")\n",
    "            # print(f\"Avg fitness: {average_fitness}\\n\")\n",
    "            best_fitness_list.append(best_fitness)\n",
    "            avg_fitness_list.append(average_fitness)\n",
    "            run.append(i + 1)\n",
    "            \n",
    "            #* early stopping\n",
    "            if best_fitness == average_fitness:\n",
    "                overfit_num += 1\n",
    "            else:\n",
    "                overfit_num = 0\n",
    "            \n",
    "        print(f\"[TV{TV}]\")\n",
    "        best_chromosome = pop[0]\n",
    "        print(f\"Best_Chromosome: {best_chromosome.astype('int8')}\")\n",
    "        \n",
    "        #! test result\n",
    "        print(f\"測試結果:\")\n",
    "        attribute = best_chromosome[:16]\n",
    "        d_train = xgb.DMatrix(train_data.values[:, attribute], label=train_label)\n",
    "        d_test = xgb.DMatrix(test_data.values[:, attribute], label=test_label)\n",
    "            \n",
    "        param = {\n",
    "            'objective':'binary:logistic',\n",
    "            'learning_rate': 0.01 + decode(best_chromosome[16:20].astype('int8') * 0.05), # [0.01, 1] -> 4bits\n",
    "            'eta': 0.01 + decode(best_chromosome[20:24].astype('int8') * 0.01), # [0.01, 0.2] -> 4bits \n",
    "            'max_depth': 2 + decode(best_chromosome[24:27].astype('int8')), # [1, 10] -> 3bits\n",
    "            'min_child_weight': 0.1 + decode(best_chromosome[27:30].astype('int8')), # [0.01, 10.0] -> 3bits\n",
    "            'gamma': 0.1 + decode(best_chromosome[30:34].astype('int8') * 0.5), # [0.01, 10.0] -> 4bits\n",
    "            'subsample': 0.1 + decode(best_chromosome[34:37].astype('int8') * 0.1), # [0.01, 1] -> 3bits\n",
    "            'colsample_bytree': 0.1 + decode(best_chromosome[37:40].astype('int8') * 0.1), # [0.01, 1] -> 3bits\n",
    "            'seed': 24\n",
    "        }\n",
    "        test_model = xgb.train(param, d_train, num_boost_round=100)\n",
    "        \n",
    "        #* predict label\n",
    "        predictions = test_model.predict(d_test)\n",
    "        predictions[predictions >= 0.5] = 1\n",
    "        predictions[predictions < 0.5] = 0\n",
    "        # print(predictions)\n",
    "        \n",
    "        #* test accuracy\n",
    "        test_score = metrics.accuracy_score(test_label, predictions)\n",
    "        print(f\"score: {test_score}\")\n",
    "        \n",
    "        strategy(predictions, TV)\n",
    "        print('strategy_money: ', strategy_money[TV - 1])\n",
    "        \n",
    "        #! fitness picture\n",
    "        # draw_fitness(run, best_fitness_list, avg_fitness_list)\n",
    "        \n",
    "    IRR()\n",
    "    print('strategy_money: ', strategy_money)"
   ]
  }
 ],
 "metadata": {
  "kernelspec": {
   "display_name": "Python 3",
   "language": "python",
   "name": "python3"
  },
  "language_info": {
   "codemirror_mode": {
    "name": "ipython",
    "version": 3
   },
   "file_extension": ".py",
   "mimetype": "text/x-python",
   "name": "python",
   "nbconvert_exporter": "python",
   "pygments_lexer": "ipython3",
   "version": "3.10.3 (tags/v3.10.3:a342a49, Mar 16 2022, 13:07:40) [MSC v.1929 64 bit (AMD64)]"
  },
  "orig_nbformat": 4,
  "vscode": {
   "interpreter": {
    "hash": "8e2fdfaba40b754b78c79fd14f3ea3f51484489fc81ab2e0ca96f8f821a6887f"
   }
  }
 },
 "nbformat": 4,
 "nbformat_minor": 2
}
