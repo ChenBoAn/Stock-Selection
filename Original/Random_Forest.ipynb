{
 "cells": [
  {
   "cell_type": "code",
   "execution_count": 19,
   "metadata": {},
   "outputs": [],
   "source": [
    "import datetime\n",
    "import pandas as pd\n",
    "from sklearn.preprocessing import StandardScaler, MinMaxScaler\n",
    "from sklearn.ensemble import RandomForestClassifier\n",
    "from sklearn import metrics\n",
    "import matplotlib.pyplot as plt"
   ]
  },
  {
   "attachments": {},
   "cell_type": "markdown",
   "metadata": {},
   "source": [
    "## 讀取資料"
   ]
  },
  {
   "cell_type": "code",
   "execution_count": 20,
   "metadata": {},
   "outputs": [
    {
     "data": {
      "text/html": [
       "<div>\n",
       "<style scoped>\n",
       "    .dataframe tbody tr th:only-of-type {\n",
       "        vertical-align: middle;\n",
       "    }\n",
       "\n",
       "    .dataframe tbody tr th {\n",
       "        vertical-align: top;\n",
       "    }\n",
       "\n",
       "    .dataframe thead th {\n",
       "        text-align: right;\n",
       "    }\n",
       "</style>\n",
       "<table border=\"1\" class=\"dataframe\">\n",
       "  <thead>\n",
       "    <tr style=\"text-align: right;\">\n",
       "      <th></th>\n",
       "      <th>簡稱</th>\n",
       "      <th>年月</th>\n",
       "      <th>市值(百萬元)</th>\n",
       "      <th>收盤價(元)_年</th>\n",
       "      <th>本益比</th>\n",
       "      <th>股價淨值比</th>\n",
       "      <th>股價營收比</th>\n",
       "      <th>M淨值報酬率─稅後</th>\n",
       "      <th>資產報酬率ROA</th>\n",
       "      <th>營業利益率OPM</th>\n",
       "      <th>利潤邊際NPM</th>\n",
       "      <th>負債/淨值比</th>\n",
       "      <th>M流動比率</th>\n",
       "      <th>M速動比率</th>\n",
       "      <th>M存貨週轉率 (次)</th>\n",
       "      <th>M應收帳款週轉次</th>\n",
       "      <th>M營業利益成長率</th>\n",
       "      <th>M稅後淨利成長率</th>\n",
       "      <th>Return</th>\n",
       "      <th>ReturnMean_year_Label</th>\n",
       "    </tr>\n",
       "  </thead>\n",
       "  <tbody>\n",
       "    <tr>\n",
       "      <th>0</th>\n",
       "      <td>台積電</td>\n",
       "      <td>199712</td>\n",
       "      <td>457105</td>\n",
       "      <td>15.24</td>\n",
       "      <td>3.4636</td>\n",
       "      <td>0.89594</td>\n",
       "      <td>1.41640</td>\n",
       "      <td>0.144140</td>\n",
       "      <td>0.223790</td>\n",
       "      <td>0.339850</td>\n",
       "      <td>0.408870</td>\n",
       "      <td>0.55256</td>\n",
       "      <td>223.86</td>\n",
       "      <td>177.18</td>\n",
       "      <td>5.99</td>\n",
       "      <td>6.34</td>\n",
       "      <td>-18.13</td>\n",
       "      <td>-8.00</td>\n",
       "      <td>-6.3648</td>\n",
       "      <td>1</td>\n",
       "    </tr>\n",
       "    <tr>\n",
       "      <th>1</th>\n",
       "      <td>聯電</td>\n",
       "      <td>199712</td>\n",
       "      <td>263536</td>\n",
       "      <td>20.55</td>\n",
       "      <td>9.1333</td>\n",
       "      <td>1.27240</td>\n",
       "      <td>3.38550</td>\n",
       "      <td>0.111460</td>\n",
       "      <td>0.145880</td>\n",
       "      <td>0.142950</td>\n",
       "      <td>0.388200</td>\n",
       "      <td>0.30889</td>\n",
       "      <td>338.15</td>\n",
       "      <td>303.48</td>\n",
       "      <td>5.27</td>\n",
       "      <td>6.80</td>\n",
       "      <td>-41.39</td>\n",
       "      <td>27.37</td>\n",
       "      <td>-18.0049</td>\n",
       "      <td>1</td>\n",
       "    </tr>\n",
       "    <tr>\n",
       "      <th>2</th>\n",
       "      <td>中鋼</td>\n",
       "      <td>199712</td>\n",
       "      <td>181781</td>\n",
       "      <td>5.53</td>\n",
       "      <td>2.6209</td>\n",
       "      <td>0.35770</td>\n",
       "      <td>0.42117</td>\n",
       "      <td>0.077890</td>\n",
       "      <td>0.136380</td>\n",
       "      <td>0.227920</td>\n",
       "      <td>0.160150</td>\n",
       "      <td>0.75094</td>\n",
       "      <td>85.46</td>\n",
       "      <td>26.60</td>\n",
       "      <td>4.10</td>\n",
       "      <td>22.41</td>\n",
       "      <td>44.39</td>\n",
       "      <td>63.01</td>\n",
       "      <td>-9.2224</td>\n",
       "      <td>1</td>\n",
       "    </tr>\n",
       "    <tr>\n",
       "      <th>3</th>\n",
       "      <td>南亞</td>\n",
       "      <td>199712</td>\n",
       "      <td>175637</td>\n",
       "      <td>14.81</td>\n",
       "      <td>6.6116</td>\n",
       "      <td>0.74949</td>\n",
       "      <td>0.40821</td>\n",
       "      <td>0.035977</td>\n",
       "      <td>0.099458</td>\n",
       "      <td>0.091372</td>\n",
       "      <td>0.061046</td>\n",
       "      <td>1.76440</td>\n",
       "      <td>133.30</td>\n",
       "      <td>80.55</td>\n",
       "      <td>4.36</td>\n",
       "      <td>7.00</td>\n",
       "      <td>8.65</td>\n",
       "      <td>-15.94</td>\n",
       "      <td>-12.0864</td>\n",
       "      <td>1</td>\n",
       "    </tr>\n",
       "    <tr>\n",
       "      <th>4</th>\n",
       "      <td>華碩</td>\n",
       "      <td>199712</td>\n",
       "      <td>166991</td>\n",
       "      <td>158.47</td>\n",
       "      <td>7.0746</td>\n",
       "      <td>2.59620</td>\n",
       "      <td>2.39490</td>\n",
       "      <td>0.300880</td>\n",
       "      <td>0.356970</td>\n",
       "      <td>0.269490</td>\n",
       "      <td>0.329330</td>\n",
       "      <td>0.18643</td>\n",
       "      <td>556.46</td>\n",
       "      <td>476.72</td>\n",
       "      <td>7.60</td>\n",
       "      <td>23.93</td>\n",
       "      <td>52.07</td>\n",
       "      <td>84.82</td>\n",
       "      <td>46.2737</td>\n",
       "      <td>1</td>\n",
       "    </tr>\n",
       "    <tr>\n",
       "      <th>...</th>\n",
       "      <td>...</td>\n",
       "      <td>...</td>\n",
       "      <td>...</td>\n",
       "      <td>...</td>\n",
       "      <td>...</td>\n",
       "      <td>...</td>\n",
       "      <td>...</td>\n",
       "      <td>...</td>\n",
       "      <td>...</td>\n",
       "      <td>...</td>\n",
       "      <td>...</td>\n",
       "      <td>...</td>\n",
       "      <td>...</td>\n",
       "      <td>...</td>\n",
       "      <td>...</td>\n",
       "      <td>...</td>\n",
       "      <td>...</td>\n",
       "      <td>...</td>\n",
       "      <td>...</td>\n",
       "      <td>...</td>\n",
       "    </tr>\n",
       "    <tr>\n",
       "      <th>2595</th>\n",
       "      <td>厚生</td>\n",
       "      <td>200912</td>\n",
       "      <td>14782</td>\n",
       "      <td>27.90</td>\n",
       "      <td>12.5676</td>\n",
       "      <td>1.64020</td>\n",
       "      <td>4.18920</td>\n",
       "      <td>0.083303</td>\n",
       "      <td>0.130750</td>\n",
       "      <td>0.358990</td>\n",
       "      <td>0.333590</td>\n",
       "      <td>0.56954</td>\n",
       "      <td>223.26</td>\n",
       "      <td>36.56</td>\n",
       "      <td>0.31</td>\n",
       "      <td>21.41</td>\n",
       "      <td>30.32</td>\n",
       "      <td>22.21</td>\n",
       "      <td>-100.0000</td>\n",
       "      <td>-1</td>\n",
       "    </tr>\n",
       "    <tr>\n",
       "      <th>2596</th>\n",
       "      <td>長虹</td>\n",
       "      <td>200912</td>\n",
       "      <td>14688</td>\n",
       "      <td>59.85</td>\n",
       "      <td>10.7451</td>\n",
       "      <td>2.14750</td>\n",
       "      <td>3.57740</td>\n",
       "      <td>0.079729</td>\n",
       "      <td>0.187880</td>\n",
       "      <td>0.326690</td>\n",
       "      <td>0.313710</td>\n",
       "      <td>1.35650</td>\n",
       "      <td>171.65</td>\n",
       "      <td>10.52</td>\n",
       "      <td>0.18</td>\n",
       "      <td>6.45</td>\n",
       "      <td>-22.01</td>\n",
       "      <td>-22.13</td>\n",
       "      <td>-100.0000</td>\n",
       "      <td>-1</td>\n",
       "    </tr>\n",
       "    <tr>\n",
       "      <th>2597</th>\n",
       "      <td>聯陽</td>\n",
       "      <td>200912</td>\n",
       "      <td>14621</td>\n",
       "      <td>69.66</td>\n",
       "      <td>28.5492</td>\n",
       "      <td>2.23840</td>\n",
       "      <td>3.57230</td>\n",
       "      <td>0.069504</td>\n",
       "      <td>0.078390</td>\n",
       "      <td>0.116460</td>\n",
       "      <td>0.125090</td>\n",
       "      <td>0.12785</td>\n",
       "      <td>506.27</td>\n",
       "      <td>436.92</td>\n",
       "      <td>5.67</td>\n",
       "      <td>6.58</td>\n",
       "      <td>7.16</td>\n",
       "      <td>20.48</td>\n",
       "      <td>-100.0000</td>\n",
       "      <td>-1</td>\n",
       "    </tr>\n",
       "    <tr>\n",
       "      <th>2598</th>\n",
       "      <td>太子</td>\n",
       "      <td>200912</td>\n",
       "      <td>14608</td>\n",
       "      <td>15.25</td>\n",
       "      <td>23.4615</td>\n",
       "      <td>1.27720</td>\n",
       "      <td>1.09160</td>\n",
       "      <td>0.015046</td>\n",
       "      <td>0.051981</td>\n",
       "      <td>0.075285</td>\n",
       "      <td>0.046454</td>\n",
       "      <td>2.45490</td>\n",
       "      <td>122.82</td>\n",
       "      <td>14.40</td>\n",
       "      <td>0.59</td>\n",
       "      <td>13.82</td>\n",
       "      <td>932.82</td>\n",
       "      <td>208.68</td>\n",
       "      <td>-100.0000</td>\n",
       "      <td>-1</td>\n",
       "    </tr>\n",
       "    <tr>\n",
       "      <th>2599</th>\n",
       "      <td>志超</td>\n",
       "      <td>200912</td>\n",
       "      <td>14607</td>\n",
       "      <td>66.65</td>\n",
       "      <td>11.2584</td>\n",
       "      <td>2.80040</td>\n",
       "      <td>1.04600</td>\n",
       "      <td>0.071396</td>\n",
       "      <td>0.175820</td>\n",
       "      <td>0.123920</td>\n",
       "      <td>0.078775</td>\n",
       "      <td>1.46260</td>\n",
       "      <td>145.48</td>\n",
       "      <td>128.28</td>\n",
       "      <td>13.90</td>\n",
       "      <td>3.26</td>\n",
       "      <td>130.37</td>\n",
       "      <td>173.45</td>\n",
       "      <td>-100.0000</td>\n",
       "      <td>-1</td>\n",
       "    </tr>\n",
       "  </tbody>\n",
       "</table>\n",
       "<p>2600 rows × 20 columns</p>\n",
       "</div>"
      ],
      "text/plain": [
       "               簡稱      年月  市值(百萬元)  收盤價(元)_年      本益比    股價淨值比    股價營收比  \\\n",
       "0      台積電         199712   457105     15.24   3.4636  0.89594  1.41640   \n",
       "1     聯電           199712   263536     20.55   9.1333  1.27240  3.38550   \n",
       "2     中鋼           199712   181781      5.53   2.6209  0.35770  0.42117   \n",
       "3     南亞           199712   175637     14.81   6.6116  0.74949  0.40821   \n",
       "4     華碩           199712   166991    158.47   7.0746  2.59620  2.39490   \n",
       "...           ...     ...      ...       ...      ...      ...      ...   \n",
       "2595  厚生           200912    14782     27.90  12.5676  1.64020  4.18920   \n",
       "2596  長虹           200912    14688     59.85  10.7451  2.14750  3.57740   \n",
       "2597  聯陽           200912    14621     69.66  28.5492  2.23840  3.57230   \n",
       "2598  太子           200912    14608     15.25  23.4615  1.27720  1.09160   \n",
       "2599  志超           200912    14607     66.65  11.2584  2.80040  1.04600   \n",
       "\n",
       "      M淨值報酬率─稅後  資產報酬率ROA  營業利益率OPM   利潤邊際NPM   負債/淨值比   M流動比率   M速動比率  \\\n",
       "0      0.144140  0.223790  0.339850  0.408870  0.55256  223.86  177.18   \n",
       "1      0.111460  0.145880  0.142950  0.388200  0.30889  338.15  303.48   \n",
       "2      0.077890  0.136380  0.227920  0.160150  0.75094   85.46   26.60   \n",
       "3      0.035977  0.099458  0.091372  0.061046  1.76440  133.30   80.55   \n",
       "4      0.300880  0.356970  0.269490  0.329330  0.18643  556.46  476.72   \n",
       "...         ...       ...       ...       ...      ...     ...     ...   \n",
       "2595   0.083303  0.130750  0.358990  0.333590  0.56954  223.26   36.56   \n",
       "2596   0.079729  0.187880  0.326690  0.313710  1.35650  171.65   10.52   \n",
       "2597   0.069504  0.078390  0.116460  0.125090  0.12785  506.27  436.92   \n",
       "2598   0.015046  0.051981  0.075285  0.046454  2.45490  122.82   14.40   \n",
       "2599   0.071396  0.175820  0.123920  0.078775  1.46260  145.48  128.28   \n",
       "\n",
       "      M存貨週轉率 (次)  M應收帳款週轉次  M營業利益成長率  M稅後淨利成長率    Return  \\\n",
       "0           5.99      6.34    -18.13     -8.00   -6.3648   \n",
       "1           5.27      6.80    -41.39     27.37  -18.0049   \n",
       "2           4.10     22.41     44.39     63.01   -9.2224   \n",
       "3           4.36      7.00      8.65    -15.94  -12.0864   \n",
       "4           7.60     23.93     52.07     84.82   46.2737   \n",
       "...          ...       ...       ...       ...       ...   \n",
       "2595        0.31     21.41     30.32     22.21 -100.0000   \n",
       "2596        0.18      6.45    -22.01    -22.13 -100.0000   \n",
       "2597        5.67      6.58      7.16     20.48 -100.0000   \n",
       "2598        0.59     13.82    932.82    208.68 -100.0000   \n",
       "2599       13.90      3.26    130.37    173.45 -100.0000   \n",
       "\n",
       "      ReturnMean_year_Label  \n",
       "0                         1  \n",
       "1                         1  \n",
       "2                         1  \n",
       "3                         1  \n",
       "4                         1  \n",
       "...                     ...  \n",
       "2595                     -1  \n",
       "2596                     -1  \n",
       "2597                     -1  \n",
       "2598                     -1  \n",
       "2599                     -1  \n",
       "\n",
       "[2600 rows x 20 columns]"
      ]
     },
     "execution_count": 20,
     "metadata": {},
     "output_type": "execute_result"
    }
   ],
   "source": [
    "stocks_data = pd.read_excel(f'top200_training.xls')\n",
    "stocks_data = stocks_data.drop(columns=['證券代碼'])\n",
    "stocks_data"
   ]
  },
  {
   "attachments": {},
   "cell_type": "markdown",
   "metadata": {},
   "source": [
    "### 擷取股票年份"
   ]
  },
  {
   "cell_type": "code",
   "execution_count": 21,
   "metadata": {},
   "outputs": [
    {
     "data": {
      "text/plain": [
       "array([199712, 199812, 199912, 200012, 200112, 200212, 200312, 200412,\n",
       "       200512, 200612, 200712, 200812, 200912], dtype=int64)"
      ]
     },
     "execution_count": 21,
     "metadata": {},
     "output_type": "execute_result"
    }
   ],
   "source": [
    "data_years = stocks_data['年月'].unique()\n",
    "data_years"
   ]
  },
  {
   "attachments": {},
   "cell_type": "markdown",
   "metadata": {},
   "source": [
    "### 擷取股票簡稱"
   ]
  },
  {
   "cell_type": "code",
   "execution_count": 22,
   "metadata": {},
   "outputs": [
    {
     "data": {
      "text/plain": [
       "array(['台積電       ', '聯電         ', '中鋼         ', '南亞         ',\n",
       "       '華碩         ', '台塑         ', '日月光       ', '大同         ',\n",
       "       '台化         ', '統一         ', '鴻海         ', '茂矽         ',\n",
       "       '英業達       ', '華邦電       ', '裕隆         ', '旺宏         ',\n",
       "       '台泥         ', '太電         ', '長榮         ', '華航         ',\n",
       "       '亞泥         ', '台達電       ', '華通         ', '國建         ',\n",
       "       '中華         ', '國產車       ', '矽品         ', '國巨         ',\n",
       "       '東元         ', '國揚         ', '三陽         ', '台玻         ',\n",
       "       '中石化       ', '統一超       ', '中環         ', '陽明         ',\n",
       "       '東雲         ', '味全         ', '福懋         ', '佳世達       ',\n",
       "       '合泰         ', '中工         ', '正新         ', '太設         ',\n",
       "       '中保         ', '南紡         ', '士紙         ', '國產         ',\n",
       "       '亞瑟         ', '遠航         ', '力廣         ', '聯強         ',\n",
       "       '錸德         ', '致福         ', '長億         ', '震旦行       ',\n",
       "       '藍天         ', '華泰         ', '統一實       ', '光罩         ',\n",
       "       '環電         ', '南港         ', '大陸         ', '神達         ',\n",
       "       '士電         ', '光寶科       ', '大榮         ', '力霸         ',\n",
       "       '新纖         ', '永豐餘       ', '宏盛         ', '台聚         ',\n",
       "       '凌陽         ', '聲寶         ', '國豐         ', '長興         ',\n",
       "       '飛瑞         ', '昱成         ', '三商行       ', '旭麗         ',\n",
       "       '六福         ', '倫飛         ', '冠德         ', '東鋼         ',\n",
       "       '廣宇         ', '中纖         ', '台橡         ', '美式         ',\n",
       "       '中強         ', '新紡         ', '嘉食化       ', '立榮         ',\n",
       "       '東聯         ', '嘉泥         ', '德寶         ', '寶祥         ',\n",
       "       '中化         ', '誠洲         ', '信大         ', '威致         ',\n",
       "       '正隆         ', '和成         ', '中鼎         ', 'D 復盛       ',\n",
       "       '聯華         ', '厚生         ', '裕民         ', '光磊         ',\n",
       "       '新保         ', '楠梓電       ', '佳格         ', '燁輝         ',\n",
       "       '豐興         ', '聯成         ', '豐泰         ', '宏遠         ',\n",
       "       'D 致伸       ', '中興電       ', '友訊         ', '矽統         ',\n",
       "       '尖美         ', '台火         ', '崇友         ', '華榮         ',\n",
       "       '力麗         ', '桂宏         ', '建台         ', '福益         ',\n",
       "       '東森         ', '盛餘         ', '三采         ', '寶建         ',\n",
       "       '名軒         ', '台紙         ', '永光         ', '鴻友         ',\n",
       "       '中紡         ', '宏普         ', '建大         ', '大台北       ',\n",
       "       '嘉畜         ', '中友         ', '華電         ', '基泰         ',\n",
       "       '龍邦         ', '台安         ', '榮化         ', '所羅門       ',\n",
       "       '歌林         ', '智邦         ', '永信         ', '碧悠         ',\n",
       "       '亞聚         ', '統領         ', '華紙         ', '新燕         ',\n",
       "       '瑞昱         ', '福聚         ', '東泥         ', '第一店       ',\n",
       "       '東和         ', '新泰伸       ', '中鴻         ', '高林         ',\n",
       "       '力鵬         ', '耀文         ', '大亞         ', '佳和         ',\n",
       "       '佳錄         ', '美格         ', '敬鵬         ', '華夏         ',\n",
       "       '利奇         ', '優美         ', '榮櫃         ', '益華         ',\n",
       "       '工礦         ', '幸福         ', '益航         ', '台揚         ',\n",
       "       '精業         ', '鼎創達       ', '春源         ', '民興         ',\n",
       "       '勤益         ', '宏碁         ', '聯發         ', '巨大         ',\n",
       "       '聯上發       ', '長谷         ', '宏泰         ', '環泥         ',\n",
       "       '英誌         ', '三洋         ', '欣欣         ', '中信         ',\n",
       "       '中連         ', '大華         ', '宏總         ', '中橡         ',\n",
       "       '宏電         ', '仁寶         ', '華宇         ', '寶成         ',\n",
       "       '萬海         ', '農林         ', '世界         ', '大眾         ',\n",
       "       '華新         ', '技嘉         ', '力晶         ', '台鳳         ',\n",
       "       '金寶         ', '年興         ', '和泰         ', '燿華         ',\n",
       "       '微星         ', '遠百         ', '金像電       ', '永大         ',\n",
       "       '友力         ', '台苯         ', '國聯         ', '冠軍         ',\n",
       "       '和桐         ', '泰豐         ', '東陽         ', '致茂         ',\n",
       "       '勝華         ', '精英         ', '永記         ', '皇旗         ',\n",
       "       '云辰         ', '力山         ', '佳鼎         ', '合勤         ',\n",
       "       '三星         ', '晶華         ', '金緯         ', '全友         ',\n",
       "       '矽豐         ', '順大裕       ', '欣錩         ', '東訊         ',\n",
       "       '精碟         ', '燦坤         ', '菱生         ', '國電         ',\n",
       "       '虹光         ', '力麒         ', '堤維西       ', '欣興         ',\n",
       "       '宜進         ', '劍湖山       ', '中電         ', '嘉裕         ',\n",
       "       '英群         ', '廣達         ', '茂德         ', '長榮航       ',\n",
       "       '研華         ', '台肥         ', '智原         ', '遠雄         ',\n",
       "       '慧智         ', '兆赫         ', '中視         ', '普立爾       ',\n",
       "       '博達         ', '鈺創         ', '仲琦         ', '國喬         ',\n",
       "       '倚天         ', '鴻準         ', '世平         ', '世昕         ',\n",
       "       '可成         ', '亞旭         ', '正崴         ', '華新科       ',\n",
       "       '思源         ', '友立資       ', '偉詮電       ', '匯僑工業     ',\n",
       "       '鑽全         ', '麗正         ', '中光電       ', '皇統         ',\n",
       "       '天揚         ', '環科         ', '漢唐         ', '台林         ',\n",
       "       '瑞軒         ', '三商電       ', '太欣         ', '互盛電       ',\n",
       "       '台達         ', '第三波       ', '中華電       ', '威盛         ',\n",
       "       '遠東新       ', '華映         ', '南科         ', '聯友光電     ',\n",
       "       '友達         ', '敦陽科       ', '亞光         ', '吉祥全       ',\n",
       "       '黑松         ', '毅嘉         ', '禾伸堂       ', '衛展         ',\n",
       "       '裕融         ', '松翰         ', '建碁         ', '潤泰新       ',\n",
       "       '飛宏         ', '漢磊         ', '好樂迪       ', '友旺         ',\n",
       "       '雅新         ', '關貿         ', '美隆電       ', '友尚         ',\n",
       "       '華城         ', '第一金投     ', '訊連         ', '高林股       ',\n",
       "       '遠見         ', '台南         ', '美律         ', '敦南         ',\n",
       "       '遠雄港       ', '揚智         ', '特力         ', '大成         ',\n",
       "       '先豐         ', '希華         ', '昆盈         ', '新美齊       ',\n",
       "       '強茂         ', '聯發科       ', '台灣大       ', '彩晶         ',\n",
       "       '建興電       ', '必翔         ', '義隆         ', '群光         ',\n",
       "       '創見         ', '百略         ', '欣煜         ', '迎廣         ',\n",
       "       '矽成         ', '華立         ', '全懋         ', '崇越         ',\n",
       "       '神腦         ', '億豐         ', '大田         ', '京元電       ',\n",
       "       '世紀         ', '建準         ', '科風         ', '中碳         ',\n",
       "       '健鼎         ', '浩鑫         ', '友通         ', '佳能         ',\n",
       "       '遠傳         ', '宏達電       ', '廣輝         ', '聯詠         ',\n",
       "       '大立光       ', '晶豪科       ', '潤泰全       ', '力特         ',\n",
       "       '億光         ', '憶聲         ', '普誠         ', '全國         ',\n",
       "       '智冠         ', '益登         ', '和鑫         ', '正文         ',\n",
       "       '橘子         ', '晶電         ', '帆宣         ', '綠點         ',\n",
       "       '全家         ', '成霖         ', '精元         ', '神基         ',\n",
       "       '超豐         ', '普安         ', '台塑化       ', 'D 奇美電     ',\n",
       "       '廣明         ', '緯創         ', '力成         ', '華孚         ',\n",
       "       '康舒         ', '榮運         ', '奇景         ', '瑞儀         ',\n",
       "       '精成科       ', '啟碁         ', '錸寶         ', '建漢         ',\n",
       "       '亞翔         ', '新興         ', '立錡         ', '味丹         ',\n",
       "       '飛信         ', '嘉聯益       ', '威達電       ', '華晶科       ',\n",
       "       '宏正科       ', '統寶         ', '裕日車       ', 'D 台固       ',\n",
       "       '華寶         ', '帝寶         ', '元太         ', '景碩         ',\n",
       "       '臺鹽         ', '展茂         ', '台航         ', '京城         ',\n",
       "       '信義         ', '茂迪         ', '太子         ', '新光鋼       ',\n",
       "       '瑞智         ', '關中         ', '日勝生       ', '四維航       ',\n",
       "       '威剛         ', '興富發       ', '英華達       ', '玉晶光       ',\n",
       "       '威力盟       ', '喬山         ', '閎暉         ', '頎邦         ',\n",
       "       '華冠         ', '輔祥         ', '川湖         ', '明泰         ',\n",
       "       '陞泰         ', '巨擘         ', '華宏         ', '新日興       ',\n",
       "       '盛群         ', '中美晶       ', '今國光       ', '新普         ',\n",
       "       '中砂         ', '矽創         ', '泰林         ', '育富         ',\n",
       "       '圓剛         ', '群聯         ', '奇美電       ', '南電         ',\n",
       "       '華亞科       ', '原相         ', '伍豐         ', '創意         ',\n",
       "       '皇翔         ', '合晶         ', '勤美         ', '榮剛         ',\n",
       "       '鈊象         ', '大成鋼       ', '長虹         ', '國賓         ',\n",
       "       '鄉林         ', '華固         ', '大聯大       ', '台勝科       ',\n",
       "       '昱晶         ', '信昌化       ', '達方         ', '福懋科       ',\n",
       "       '中航         ', '益通         ', '華擎         ', '光洋科       ',\n",
       "       '柏騰         ', '奇偶         ', '晶技         ', '佰鴻         ',\n",
       "       '海韻電       ', '台船         ', '美利達       ', '唐榮         ',\n",
       "       '雷凌         ', '聯陽         ', '網龍         ', '致新         ',\n",
       "       '順達科       ', '中聯資       ', '洋華         ', '揚明光       ',\n",
       "       '東貝         ', '璨圓         ', '台表科       ', '應華         ',\n",
       "       '志超         '], dtype=object)"
      ]
     },
     "execution_count": 22,
     "metadata": {},
     "output_type": "execute_result"
    }
   ],
   "source": [
    "all_stocks = stocks_data['簡稱'].unique()\n",
    "all_stocks"
   ]
  },
  {
   "attachments": {},
   "cell_type": "markdown",
   "metadata": {},
   "source": [
    "## 資料正規化\n",
    "### Min-Max Normalization"
   ]
  },
  {
   "cell_type": "code",
   "execution_count": 23,
   "metadata": {},
   "outputs": [],
   "source": [
    "for col in stocks_data.columns[2:-2]:\n",
    "    stocks_data[col] = (stocks_data[col] - stocks_data[col].min()) / (stocks_data[col].max() - stocks_data[col].min())"
   ]
  },
  {
   "attachments": {},
   "cell_type": "markdown",
   "metadata": {},
   "source": [
    "## 計算相關係數，取絕對值後排序"
   ]
  },
  {
   "cell_type": "code",
   "execution_count": 24,
   "metadata": {},
   "outputs": [
    {
     "name": "stdout",
     "output_type": "stream",
     "text": [
      "Return                   1.000000\n",
      "ReturnMean_year_Label    0.571415\n",
      "股價淨值比                    0.175714\n",
      "收盤價(元)_年                 0.172179\n",
      "股價營收比                    0.102570\n",
      "M淨值報酬率─稅後                0.073382\n",
      "資產報酬率ROA                 0.050945\n",
      "市值(百萬元)                  0.045537\n",
      "營業利益率OPM                 0.040239\n",
      "利潤邊際NPM                  0.039594\n",
      "M稅後淨利成長率                 0.036695\n",
      "M存貨週轉率 (次)               0.030282\n",
      "M速動比率                    0.019022\n",
      "M流動比率                    0.009868\n",
      "負債/淨值比                   0.009321\n",
      "年月                       0.008267\n",
      "本益比                      0.006260\n",
      "M營業利益成長率                 0.004976\n",
      "M應收帳款週轉次                 0.001473\n",
      "Name: Return, dtype: float64\n"
     ]
    },
    {
     "name": "stderr",
     "output_type": "stream",
     "text": [
      "C:\\TempFiles\\ipykernel_11312\\999004108.py:1: FutureWarning: The default value of numeric_only in DataFrame.corr is deprecated. In a future version, it will default to False. Select only valid columns or specify the value of numeric_only to silence this warning.\n",
      "  correlation = stocks_data.corr()['Return'].abs().sort_values(ascending=False)\n"
     ]
    }
   ],
   "source": [
    "correlation = stocks_data.corr()['Return'].abs().sort_values(ascending=False)\n",
    "print(correlation)\n",
    "#correlation = correlation.drop(index=['年月', 'Return', 'ReturnMean_year_Label'])\n",
    "#correlation =  correlation / sum(correlation.values)\n",
    "#print(correlation)"
   ]
  },
  {
   "attachments": {},
   "cell_type": "markdown",
   "metadata": {},
   "source": [
    "## 保留前五重要之特徵"
   ]
  },
  {
   "cell_type": "code",
   "execution_count": 25,
   "metadata": {},
   "outputs": [],
   "source": [
    "#stocks_data = stocks_data[['簡稱', '年月', '股價淨值比', '收盤價(元)_年', '股價營收比', 'M淨值報酬率─稅後', '資產報酬率ROA', 'Return', 'ReturnMean_year_Label']]\n",
    "#stocks_data"
   ]
  },
  {
   "attachments": {},
   "cell_type": "markdown",
   "metadata": {},
   "source": [
    "## 切割TV (1997 ~ 2009)"
   ]
  },
  {
   "cell_type": "code",
   "execution_count": 26,
   "metadata": {},
   "outputs": [],
   "source": [
    "TV = 9\n",
    "basic_train_data = stocks_data[stocks_data['年月'].isin(data_years[:TV])]\n",
    "train_label = basic_train_data['ReturnMean_year_Label']\n",
    "train_data = basic_train_data.drop(columns=['簡稱', '年月', 'Return', 'ReturnMean_year_Label'])\n",
    "\n",
    "basic_test_data = stocks_data[stocks_data['年月'].isin(data_years[TV:])]\n",
    "test_label = basic_test_data['ReturnMean_year_Label']\n",
    "test_data = basic_test_data.drop(columns=['簡稱', '年月', 'Return', 'ReturnMean_year_Label'])"
   ]
  },
  {
   "attachments": {},
   "cell_type": "markdown",
   "metadata": {},
   "source": [
    "## Random Forest"
   ]
  },
  {
   "attachments": {},
   "cell_type": "markdown",
   "metadata": {},
   "source": [
    "### 建立模型"
   ]
  },
  {
   "cell_type": "code",
   "execution_count": 27,
   "metadata": {},
   "outputs": [],
   "source": [
    "randomForestModel = RandomForestClassifier()"
   ]
  },
  {
   "attachments": {},
   "cell_type": "markdown",
   "metadata": {},
   "source": [
    "### 訓練模型"
   ]
  },
  {
   "cell_type": "code",
   "execution_count": 28,
   "metadata": {},
   "outputs": [],
   "source": [
    "stock_rf = randomForestModel.fit(train_data, train_label)"
   ]
  },
  {
   "attachments": {},
   "cell_type": "markdown",
   "metadata": {},
   "source": [
    "## 特徵重要程度"
   ]
  },
  {
   "cell_type": "code",
   "execution_count": 29,
   "metadata": {},
   "outputs": [
    {
     "data": {
      "text/plain": [
       "股價淨值比         0.085437\n",
       "股價營收比         0.076342\n",
       "收盤價(元)_年      0.072788\n",
       "市值(百萬元)       0.072640\n",
       "M營業利益成長率      0.065142\n",
       "M存貨週轉率 (次)    0.065125\n",
       "M應收帳款週轉次      0.064169\n",
       "M淨值報酬率─稅後     0.064164\n",
       "M稅後淨利成長率      0.063903\n",
       "M速動比率         0.061254\n",
       "M流動比率         0.060723\n",
       "利潤邊際NPM       0.060387\n",
       "營業利益率OPM      0.060066\n",
       "負債/淨值比        0.059240\n",
       "資產報酬率ROA      0.059174\n",
       "本益比           0.009446\n",
       "dtype: float64"
      ]
     },
     "execution_count": 29,
     "metadata": {},
     "output_type": "execute_result"
    }
   ],
   "source": [
    "rf_feature_important = pd.Series(randomForestModel.feature_importances_, index=train_data.columns).sort_values(ascending=False)\n",
    "rf_feature_important"
   ]
  },
  {
   "attachments": {},
   "cell_type": "markdown",
   "metadata": {},
   "source": [
    "## 模型評估\n",
    "scikit-learn 決策樹迴歸模型的score函式是R2 score，可作為模型評估依據，其數值越接近於1代表模型越佳。\n",
    "### 使用訓練資料評估"
   ]
  },
  {
   "cell_type": "code",
   "execution_count": 30,
   "metadata": {},
   "outputs": [
    {
     "name": "stdout",
     "output_type": "stream",
     "text": [
      "R2 score:  1.0\n",
      "MSE score:  0.0\n"
     ]
    }
   ],
   "source": [
    "print('R2 score: ', stock_rf.score(train_data, train_label))\n",
    "\n",
    "\n",
    "train_prediction = stock_rf.predict(train_data)\n",
    "mse = metrics.mean_squared_error(train_label, train_prediction)\n",
    "print('MSE score: ', mse)"
   ]
  },
  {
   "attachments": {},
   "cell_type": "markdown",
   "metadata": {},
   "source": [
    "## 預測結果"
   ]
  },
  {
   "attachments": {},
   "cell_type": "markdown",
   "metadata": {},
   "source": [
    "### 使用測試資料預測"
   ]
  },
  {
   "cell_type": "code",
   "execution_count": 31,
   "metadata": {},
   "outputs": [
    {
     "name": "stdout",
     "output_type": "stream",
     "text": [
      "R2 score:  0.65375\n",
      "MSE score:  1.385\n"
     ]
    }
   ],
   "source": [
    "print('R2 score: ', stock_rf.score(test_data, test_label))\n",
    "\n",
    "test_prediction = stock_rf.predict(test_data)\n",
    "mse = metrics.mean_squared_error(test_label, test_prediction)\n",
    "print('MSE score: ', mse)"
   ]
  },
  {
   "cell_type": "code",
   "execution_count": 32,
   "metadata": {},
   "outputs": [
    {
     "data": {
      "text/plain": [
       "0     -1\n",
       "1     -1\n",
       "2      1\n",
       "3      1\n",
       "4      1\n",
       "      ..\n",
       "795   -1\n",
       "796   -1\n",
       "797   -1\n",
       "798   -1\n",
       "799   -1\n",
       "Name: ReturnMean_year_Label, Length: 800, dtype: int64"
      ]
     },
     "execution_count": 32,
     "metadata": {},
     "output_type": "execute_result"
    }
   ],
   "source": [
    "label = test_label.reset_index(drop=True)\n",
    "label"
   ]
  },
  {
   "attachments": {},
   "cell_type": "markdown",
   "metadata": {},
   "source": [
    "### 建立混淆矩陣\n",
    "水平為預測，垂直為現實"
   ]
  },
  {
   "cell_type": "code",
   "execution_count": 33,
   "metadata": {},
   "outputs": [
    {
     "data": {
      "text/plain": [
       "array([[ 61, 195],\n",
       "       [ 82, 462]], dtype=int64)"
      ]
     },
     "execution_count": 33,
     "metadata": {},
     "output_type": "execute_result"
    }
   ],
   "source": [
    "cm = metrics.confusion_matrix(test_label, test_prediction, labels=[1, -1])\n",
    "cm"
   ]
  },
  {
   "attachments": {},
   "cell_type": "markdown",
   "metadata": {},
   "source": [
    "### 矩陣分析"
   ]
  },
  {
   "cell_type": "code",
   "execution_count": 34,
   "metadata": {},
   "outputs": [
    {
     "name": "stdout",
     "output_type": "stream",
     "text": [
      "predict 1 and label 1: 61, predict -1 and label 1: 195\n",
      "predict 1 and label -1: 82, predict -1 and label -1: 462\n"
     ]
    }
   ],
   "source": [
    "print(f'predict 1 and label 1: {cm[0][0]}, predict -1 and label 1: {cm[0][1]}')\n",
    "print(f'predict 1 and label -1: {cm[1][0]}, predict -1 and label -1: {cm[1][1]}')"
   ]
  },
  {
   "attachments": {},
   "cell_type": "markdown",
   "metadata": {},
   "source": [
    "### 準確率"
   ]
  },
  {
   "cell_type": "code",
   "execution_count": 35,
   "metadata": {},
   "outputs": [
    {
     "name": "stdout",
     "output_type": "stream",
     "text": [
      "accuracy: 0.65375\n"
     ]
    }
   ],
   "source": [
    "accuracy = (cm[0][0] + cm[1][1]) / len(test_label)\n",
    "print(f'accuracy: {accuracy}')"
   ]
  },
  {
   "attachments": {},
   "cell_type": "markdown",
   "metadata": {},
   "source": [
    "### 報酬率變化圖"
   ]
  },
  {
   "cell_type": "code",
   "execution_count": 36,
   "metadata": {},
   "outputs": [
    {
     "name": "stderr",
     "output_type": "stream",
     "text": [
      "C:\\TempFiles\\ipykernel_11312\\176456450.py:3: FutureWarning: The default value of numeric_only in DataFrameGroupBy.mean is deprecated. In a future version, numeric_only will default to False. Either specify numeric_only or select only columns which should be valid for the function.\n",
      "  (basic_test_data.groupby('年月').mean()['Return'] * 0.01 + 1).cumprod().plot(color = 'red')\n",
      "C:\\TempFiles\\ipykernel_11312\\176456450.py:5: FutureWarning: The default value of numeric_only in DataFrameGroupBy.mean is deprecated. In a future version, numeric_only will default to False. Either specify numeric_only or select only columns which should be valid for the function.\n",
      "  (basic_test_data[test_prediction > 0].groupby('年月').mean()['Return'] * 0.01 + 1).cumprod().plot(color='green')\n",
      "C:\\TempFiles\\ipykernel_11312\\176456450.py:7: FutureWarning: The default value of numeric_only in DataFrameGroupBy.mean is deprecated. In a future version, numeric_only will default to False. Either specify numeric_only or select only columns which should be valid for the function.\n",
      "  (basic_test_data[test_prediction < 0].groupby('年月').mean()['Return'] * 0.01 + 1).cumprod().plot(color='blue')\n"
     ]
    },
    {
     "data": {
      "text/plain": [
       "<AxesSubplot: xlabel='年月'>"
      ]
     },
     "execution_count": 36,
     "metadata": {},
     "output_type": "execute_result"
    },
    {
     "data": {
      "image/png": "[encoded data removed]",
      "text/plain": [
       "<Figure size 432x288 with 1 Axes>"
      ]
     },
     "metadata": {
      "needs_background": "light"
     },
     "output_type": "display_data"
    }
   ],
   "source": [
    "plt.rcParams['font.sans-serif'] = ['Microsoft JhengHei']  #顯示中文\n",
    "#* 不進行篩選的報酬率\n",
    "(basic_test_data.groupby('年月').mean()['Return'] * 0.01 + 1).cumprod().plot(color = 'red')\n",
    "#* 模型預測上漲的股票，形成的投組報酬率\n",
    "(basic_test_data[test_prediction > 0].groupby('年月').mean()['Return'] * 0.01 + 1).cumprod().plot(color='green')\n",
    "#* 反向篩選出的報酬率\n",
    "(basic_test_data[test_prediction < 0].groupby('年月').mean()['Return'] * 0.01 + 1).cumprod().plot(color='blue')"
   ]
  }
 ],
 "metadata": {
  "kernelspec": {
   "display_name": "Python 3",
   "language": "python",
   "name": "python3"
  },
  "language_info": {
   "codemirror_mode": {
    "name": "ipython",
    "version": 3
   },
   "file_extension": ".py",
   "mimetype": "text/x-python",
   "name": "python",
   "nbconvert_exporter": "python",
   "pygments_lexer": "ipython3",
   "version": "3.10.3 (tags/v3.10.3:a342a49, Mar 16 2022, 13:07:40) [MSC v.1929 64 bit (AMD64)]"
  },
  "orig_nbformat": 4,
  "vscode": {
   "interpreter": {
    "hash": "8e2fdfaba40b754b78c79fd14f3ea3f51484489fc81ab2e0ca96f8f821a6887f"
   }
  }
 },
 "nbformat": 4,
 "nbformat_minor": 2
}
