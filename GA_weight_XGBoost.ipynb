{
 "cells": [
  {
   "cell_type": "code",
   "execution_count": 53,
   "metadata": {},
   "outputs": [],
   "source": [
    "import datetime\n",
    "import pandas as pd\n",
    "from sklearn.preprocessing import StandardScaler, MinMaxScaler\n",
    "from sklearn import metrics\n",
    "import matplotlib.pyplot as plt\n",
    "import numpy as np\n",
    "from xgboost import XGBClassifier \n",
    "import random"
   ]
  },
  {
   "attachments": {},
   "cell_type": "markdown",
   "metadata": {},
   "source": [
    "## Data Preprocessing"
   ]
  },
  {
   "cell_type": "code",
   "execution_count": 54,
   "metadata": {},
   "outputs": [],
   "source": [
    "def preprocessing(file):\n",
    "    #* 讀取資料\n",
    "    stock_data = pd.read_excel(file)\n",
    "    stock_data = stock_data.drop(columns=['證券代碼'])\n",
    "    #? print(stock_data)\n",
    "\n",
    "    #* 擷取股票年月與簡稱\n",
    "    stock_year = stock_data['年月'].unique()\n",
    "    stock_name = stock_data['簡稱'].unique()\n",
    "    #? print(stock_year)\n",
    "    #? print(stock_name)\n",
    "\n",
    "    #* 移除第2009年\n",
    "    stock = stock_data[stock_data['年月'].isin(stock_year[:-1])]\n",
    "    #? print(stock)\n",
    "    \n",
    "    return stock_data"
   ]
  },
  {
   "attachments": {},
   "cell_type": "markdown",
   "metadata": {},
   "source": [
    "## Normalization"
   ]
  },
  {
   "cell_type": "code",
   "execution_count": 55,
   "metadata": {},
   "outputs": [],
   "source": [
    "def normalization(data):\n",
    "    for col in data.columns[2:-2]:\n",
    "        data[col] = (data[col] - data[col].min()) / (data[col].max() - data[col].min())\n",
    "        \n",
    "    return data"
   ]
  },
  {
   "attachments": {},
   "cell_type": "markdown",
   "metadata": {},
   "source": [
    "## Split train and test by TV(1997~2008)"
   ]
  },
  {
   "cell_type": "code",
   "execution_count": 56,
   "metadata": {},
   "outputs": [],
   "source": [
    "def split_train_test(stock, TV):\n",
    "    #* 擷取股票年月與\n",
    "    stock_year = stock['年月'].unique()\n",
    "    \n",
    "    basic_train_data = stock[stock['年月'].isin(stock_year[:TV])]\n",
    "    train_label = basic_train_data['ReturnMean_year_Label']\n",
    "    train_data = basic_train_data.drop(columns=['簡稱', '年月', 'Return', 'ReturnMean_year_Label'])\n",
    "\n",
    "    basic_test_data = stock[stock['年月'].isin(stock_year[TV:])]\n",
    "    test_label = basic_test_data['ReturnMean_year_Label']\n",
    "    test_data = basic_test_data.drop(columns=['簡稱', '年月', 'Return', 'ReturnMean_year_Label'])\n",
    "    \n",
    "    return train_data, train_label, test_data, test_label"
   ]
  },
  {
   "attachments": {},
   "cell_type": "markdown",
   "metadata": {},
   "source": [
    "## Genetic Algorithm"
   ]
  },
  {
   "attachments": {},
   "cell_type": "markdown",
   "metadata": {},
   "source": [
    "### 染色體解碼"
   ]
  },
  {
   "cell_type": "code",
   "execution_count": 57,
   "metadata": {},
   "outputs": [],
   "source": [
    "def decode(chromosome):\n",
    "    #? print(chromosome)\n",
    "    dna_len = len(chromosome)\n",
    "    num = dna_len // 5\n",
    "    code = np.ones((num), dtype='int')\n",
    "    \n",
    "    index = 0\n",
    "    for i in range(0, dna_len, 5):\n",
    "        new_chromosome = chromosome[i:i+5]\n",
    "        new_dna_len = len(new_chromosome)\n",
    "        for j in range(new_dna_len):\n",
    "            gene = new_dna_len - j - 1\n",
    "            code[index] += new_chromosome[gene] * (2**j)\n",
    "        index += 1\n",
    "    \n",
    "    return code"
   ]
  },
  {
   "attachments": {},
   "cell_type": "markdown",
   "metadata": {},
   "source": [
    "### 初始種群"
   ]
  },
  {
   "cell_type": "code",
   "execution_count": 58,
   "metadata": {},
   "outputs": [],
   "source": [
    "def initial_population(pop_num, dna_length):\n",
    "    population = []\n",
    "    for i in range(pop_num):\n",
    "        chromosome = np.ones(dna_length)     \n",
    "        chromosome[:int(0.3 * dna_length)] = 0             \n",
    "        np.random.shuffle(chromosome)\n",
    "        population.append(chromosome)\n",
    "    # print(population)\n",
    "    return population"
   ]
  },
  {
   "attachments": {},
   "cell_type": "markdown",
   "metadata": {},
   "source": [
    "### 適應度"
   ]
  },
  {
   "cell_type": "code",
   "execution_count": 59,
   "metadata": {},
   "outputs": [],
   "source": [
    "def fitness(data, pop):\n",
    "    train_data, train_label, test_data, test_label = data\n",
    "\n",
    "    scores = []\n",
    "    model = XGBClassifier()\n",
    "    for chromosome in pop:\n",
    "        weight = decode(chromosome)\n",
    "        \n",
    "        #* 特徵加權\n",
    "        for i in range(len(weight)):\n",
    "            train_data[train_data.columns[i]] = train_data.iloc[:, i] * (weight[i] / 32)\n",
    "            \n",
    "        model.fit(train_data, train_label) \n",
    "        predictions = model.predict(test_data)\n",
    "        test_score = metrics.accuracy_score(test_label, predictions)\n",
    "        scores.append(test_score)\n",
    "\n",
    "    scores, pop = np.array(scores), np.array(pop)\n",
    "    inds = np.argsort(scores)\n",
    "    \n",
    "    return list(pop[inds, :][::-1]), list(scores[inds][::-1])  #my_list[start(開始的index):end(結束的index):sep(間隔)]"
   ]
  },
  {
   "attachments": {},
   "cell_type": "markdown",
   "metadata": {},
   "source": [
    "### 選擇"
   ]
  },
  {
   "cell_type": "code",
   "execution_count": 60,
   "metadata": {},
   "outputs": [],
   "source": [
    "def selection(data, pop):\n",
    "    ran_F = random.choices(pop, k=2)\n",
    "    ran_M = random.choices(pop, k=2)\n",
    "    \n",
    "    ran_F, sort_F = fitness(data, ran_F)\n",
    "    ran_M, sort_M = fitness(data, ran_M)\n",
    "\n",
    "    father = ran_F[0]\n",
    "    mother = ran_M[0]\n",
    "\n",
    "    return father, mother"
   ]
  },
  {
   "attachments": {},
   "cell_type": "markdown",
   "metadata": {},
   "source": [
    "### 交配"
   ]
  },
  {
   "cell_type": "code",
   "execution_count": 61,
   "metadata": {},
   "outputs": [],
   "source": [
    "def cross(data, pop, cross_rate=0.7):\n",
    "    pop_size, dna_len = np.array(pop).shape\n",
    "    new_pop = []\n",
    "    while len(new_pop) != pop_size:\n",
    "        father, mother = selection(data, pop)\n",
    "\n",
    "        if np.random.rand() < cross_rate:\n",
    "            cross_point = np.random.randint(low=0, high=dna_len)\n",
    "            cut_F = father[cross_point:].copy()\n",
    "            cut_M = mother[cross_point:].copy()\n",
    "            father[cross_point:] = cut_M\n",
    "            mother[cross_point:] = cut_F\n",
    "            \n",
    "        new_pop.extend([father, mother])\n",
    "        \n",
    "    return new_pop"
   ]
  },
  {
   "attachments": {},
   "cell_type": "markdown",
   "metadata": {},
   "source": [
    "### 變異"
   ]
  },
  {
   "cell_type": "code",
   "execution_count": 62,
   "metadata": {},
   "outputs": [],
   "source": [
    "def mutation(cross_pop, mutation_rate=0.005):\n",
    "    pop_size, dna_len = np.array(cross_pop).shape\n",
    "    new_pop = []\n",
    "    for i in range(pop_size):\n",
    "        if np.random.rand() < mutation_rate:\n",
    "            mutation_point = np.random.randint(low=0, high=dna_len)\n",
    "            if cross_pop[i][mutation_point] == 0:\n",
    "                cross_pop[i][mutation_point] = 1\n",
    "            else:\n",
    "                cross_pop[i][mutation_point] = 0\n",
    "                \n",
    "        new_pop.append(cross_pop[i])\n",
    "\n",
    "    return new_pop"
   ]
  },
  {
   "attachments": {},
   "cell_type": "markdown",
   "metadata": {},
   "source": [
    "### 分析"
   ]
  },
  {
   "attachments": {},
   "cell_type": "markdown",
   "metadata": {},
   "source": [
    "#### 計算種群適應度最佳值及平均值"
   ]
  },
  {
   "cell_type": "code",
   "execution_count": 63,
   "metadata": {},
   "outputs": [],
   "source": [
    "def best_avg_fitness(score):\n",
    "    return np.max(score), np.mean(score)"
   ]
  },
  {
   "attachments": {},
   "cell_type": "markdown",
   "metadata": {},
   "source": [
    "#### 繪製種群狀態"
   ]
  },
  {
   "cell_type": "code",
   "execution_count": 64,
   "metadata": {},
   "outputs": [],
   "source": [
    "def draw_fitness(run, best_pop, avg_pop):\n",
    "    plt.title(\"Best & Avg fitness\") # 圖表標題\n",
    "    plt.xlabel(\"Generation\") # 圖表x軸標題\n",
    "    plt.ylabel(\"fitness\") # 圖表y軸標題\n",
    "    plt.plot(run, best_pop, color='r', label='Best fitness', linestyle='-', marker='*') # 定義畫圖的顏色、圖例、線條、形狀、寬度\n",
    "    plt.plot(run, avg_pop, color='b', label='Avg fitness', linestyle='--', marker='o') # 定義畫圖的顏色、圖例、線條、形狀、寬度\n",
    "    plt.grid(axis='y') # 定義網格\n",
    "    plt.legend(loc='lower right') # 當有兩種以上資料，可以使用.legend()來顯示資料的圖例\n",
    "    plt.savefig('GA_weight_XGBoost.png')"
   ]
  },
  {
   "attachments": {},
   "cell_type": "markdown",
   "metadata": {},
   "source": [
    "## Main Function"
   ]
  },
  {
   "cell_type": "code",
   "execution_count": 65,
   "metadata": {},
   "outputs": [
    {
     "name": "stdout",
     "output_type": "stream",
     "text": [
      "[Generation 1]\n",
      "Best chromosome: [1. 0. 1. 0. 1. 1. 1. 1. 1. 0. 1. 1. 1. 1. 1. 1. 1. 0. 1. 1. 1. 1. 0. 0.\n",
      " 0. 0. 0. 1. 1. 1. 1. 1. 1. 0. 1. 0. 0. 0. 0. 1. 0. 1. 1. 1. 1. 0. 1. 1.\n",
      " 1. 1. 1. 1. 0. 0. 1. 1. 1. 0. 1. 1. 1. 0. 0. 1. 1. 1. 1. 1. 1. 1. 1. 0.\n",
      " 1. 0. 0. 1. 1. 1. 1. 1.]\n",
      "Best fitness: 0.625\n",
      "Avg fitness: 0.625\n",
      "\n",
      "[Generation 2]\n"
     ]
    },
    {
     "ename": "KeyboardInterrupt",
     "evalue": "",
     "output_type": "error",
     "traceback": [
      "\u001b[1;31m---------------------------------------------------------------------------\u001b[0m",
      "\u001b[1;31mKeyboardInterrupt\u001b[0m                         Traceback (most recent call last)",
      "\u001b[1;32me:\\AI_Finance\\Project\\final\\GA_Weight_XGBoost_test.ipynb Cell 27\u001b[0m in \u001b[0;36m<cell line: 1>\u001b[1;34m()\u001b[0m\n\u001b[0;32m     <a href='vscode-notebook-cell:/e%3A/AI_Finance/Project/final/GA_Weight_XGBoost_test.ipynb#X34sZmlsZQ%3D%3D?line=33'>34</a>\u001b[0m \u001b[39mwhile\u001b[39;00m overfit_num \u001b[39m<\u001b[39m \u001b[39m3\u001b[39m \u001b[39mand\u001b[39;00m i \u001b[39m<\u001b[39m generation_num: \u001b[39m# best fitness & average fitness 連續相等5次則中斷\u001b[39;00m\n\u001b[0;32m     <a href='vscode-notebook-cell:/e%3A/AI_Finance/Project/final/GA_Weight_XGBoost_test.ipynb#X34sZmlsZQ%3D%3D?line=34'>35</a>\u001b[0m     \u001b[39mprint\u001b[39m(\u001b[39mf\u001b[39m\u001b[39m\"\u001b[39m\u001b[39m[Generation \u001b[39m\u001b[39m{\u001b[39;00mi \u001b[39m+\u001b[39m \u001b[39m1\u001b[39m\u001b[39m}\u001b[39;00m\u001b[39m]\u001b[39m\u001b[39m\"\u001b[39m)\n\u001b[1;32m---> <a href='vscode-notebook-cell:/e%3A/AI_Finance/Project/final/GA_Weight_XGBoost_test.ipynb#X34sZmlsZQ%3D%3D?line=35'>36</a>\u001b[0m     cross_pop \u001b[39m=\u001b[39m cross(data, pop, cross_rate) \u001b[39m# 選擇 -> 交配\u001b[39;00m\n\u001b[0;32m     <a href='vscode-notebook-cell:/e%3A/AI_Finance/Project/final/GA_Weight_XGBoost_test.ipynb#X34sZmlsZQ%3D%3D?line=36'>37</a>\u001b[0m     mutation_pop \u001b[39m=\u001b[39m mutation(cross_pop, mutation_rate) \u001b[39m# 變異\u001b[39;00m\n\u001b[0;32m     <a href='vscode-notebook-cell:/e%3A/AI_Finance/Project/final/GA_Weight_XGBoost_test.ipynb#X34sZmlsZQ%3D%3D?line=37'>38</a>\u001b[0m     pop \u001b[39m=\u001b[39m mutation_pop\n",
      "\u001b[1;32me:\\AI_Finance\\Project\\final\\GA_Weight_XGBoost_test.ipynb Cell 27\u001b[0m in \u001b[0;36mcross\u001b[1;34m(data, pop, cross_rate)\u001b[0m\n\u001b[0;32m      <a href='vscode-notebook-cell:/e%3A/AI_Finance/Project/final/GA_Weight_XGBoost_test.ipynb#X34sZmlsZQ%3D%3D?line=2'>3</a>\u001b[0m new_pop \u001b[39m=\u001b[39m []\n\u001b[0;32m      <a href='vscode-notebook-cell:/e%3A/AI_Finance/Project/final/GA_Weight_XGBoost_test.ipynb#X34sZmlsZQ%3D%3D?line=3'>4</a>\u001b[0m \u001b[39mwhile\u001b[39;00m \u001b[39mlen\u001b[39m(new_pop) \u001b[39m!=\u001b[39m pop_size:\n\u001b[1;32m----> <a href='vscode-notebook-cell:/e%3A/AI_Finance/Project/final/GA_Weight_XGBoost_test.ipynb#X34sZmlsZQ%3D%3D?line=4'>5</a>\u001b[0m     father, mother \u001b[39m=\u001b[39m selection(data, pop)\n\u001b[0;32m      <a href='vscode-notebook-cell:/e%3A/AI_Finance/Project/final/GA_Weight_XGBoost_test.ipynb#X34sZmlsZQ%3D%3D?line=6'>7</a>\u001b[0m     \u001b[39mif\u001b[39;00m np\u001b[39m.\u001b[39mrandom\u001b[39m.\u001b[39mrand() \u001b[39m<\u001b[39m cross_rate:\n\u001b[0;32m      <a href='vscode-notebook-cell:/e%3A/AI_Finance/Project/final/GA_Weight_XGBoost_test.ipynb#X34sZmlsZQ%3D%3D?line=7'>8</a>\u001b[0m         cross_point \u001b[39m=\u001b[39m np\u001b[39m.\u001b[39mrandom\u001b[39m.\u001b[39mrandint(low\u001b[39m=\u001b[39m\u001b[39m0\u001b[39m, high\u001b[39m=\u001b[39mdna_len)\n",
      "\u001b[1;32me:\\AI_Finance\\Project\\final\\GA_Weight_XGBoost_test.ipynb Cell 27\u001b[0m in \u001b[0;36mselection\u001b[1;34m(data, pop)\u001b[0m\n\u001b[0;32m      <a href='vscode-notebook-cell:/e%3A/AI_Finance/Project/final/GA_Weight_XGBoost_test.ipynb#X34sZmlsZQ%3D%3D?line=2'>3</a>\u001b[0m ran_M \u001b[39m=\u001b[39m random\u001b[39m.\u001b[39mchoices(pop, k\u001b[39m=\u001b[39m\u001b[39m2\u001b[39m)\n\u001b[0;32m      <a href='vscode-notebook-cell:/e%3A/AI_Finance/Project/final/GA_Weight_XGBoost_test.ipynb#X34sZmlsZQ%3D%3D?line=4'>5</a>\u001b[0m ran_F, sort_F \u001b[39m=\u001b[39m fitness(data, ran_F)\n\u001b[1;32m----> <a href='vscode-notebook-cell:/e%3A/AI_Finance/Project/final/GA_Weight_XGBoost_test.ipynb#X34sZmlsZQ%3D%3D?line=5'>6</a>\u001b[0m ran_M, sort_M \u001b[39m=\u001b[39m fitness(data, ran_M)\n\u001b[0;32m      <a href='vscode-notebook-cell:/e%3A/AI_Finance/Project/final/GA_Weight_XGBoost_test.ipynb#X34sZmlsZQ%3D%3D?line=7'>8</a>\u001b[0m father \u001b[39m=\u001b[39m ran_F[\u001b[39m0\u001b[39m]\n\u001b[0;32m      <a href='vscode-notebook-cell:/e%3A/AI_Finance/Project/final/GA_Weight_XGBoost_test.ipynb#X34sZmlsZQ%3D%3D?line=8'>9</a>\u001b[0m mother \u001b[39m=\u001b[39m ran_M[\u001b[39m0\u001b[39m]\n",
      "\u001b[1;32me:\\AI_Finance\\Project\\final\\GA_Weight_XGBoost_test.ipynb Cell 27\u001b[0m in \u001b[0;36mfitness\u001b[1;34m(data, pop)\u001b[0m\n\u001b[0;32m      <a href='vscode-notebook-cell:/e%3A/AI_Finance/Project/final/GA_Weight_XGBoost_test.ipynb#X34sZmlsZQ%3D%3D?line=8'>9</a>\u001b[0m \u001b[39m#* 特徵加權\u001b[39;00m\n\u001b[0;32m     <a href='vscode-notebook-cell:/e%3A/AI_Finance/Project/final/GA_Weight_XGBoost_test.ipynb#X34sZmlsZQ%3D%3D?line=9'>10</a>\u001b[0m \u001b[39mfor\u001b[39;00m i \u001b[39min\u001b[39;00m \u001b[39mrange\u001b[39m(\u001b[39mlen\u001b[39m(weight)):\n\u001b[1;32m---> <a href='vscode-notebook-cell:/e%3A/AI_Finance/Project/final/GA_Weight_XGBoost_test.ipynb#X34sZmlsZQ%3D%3D?line=10'>11</a>\u001b[0m     train_data[train_data\u001b[39m.\u001b[39;49mcolumns[i]] \u001b[39m=\u001b[39m train_data\u001b[39m.\u001b[39miloc[:, i] \u001b[39m*\u001b[39m (weight[i] \u001b[39m/\u001b[39m \u001b[39m32\u001b[39m)\n\u001b[0;32m     <a href='vscode-notebook-cell:/e%3A/AI_Finance/Project/final/GA_Weight_XGBoost_test.ipynb#X34sZmlsZQ%3D%3D?line=12'>13</a>\u001b[0m model\u001b[39m.\u001b[39mfit(train_data, train_label) \n\u001b[0;32m     <a href='vscode-notebook-cell:/e%3A/AI_Finance/Project/final/GA_Weight_XGBoost_test.ipynb#X34sZmlsZQ%3D%3D?line=13'>14</a>\u001b[0m predictions \u001b[39m=\u001b[39m model\u001b[39m.\u001b[39mpredict(test_data)\n",
      "File \u001b[1;32mc:\\Users\\陳柏安\\AppData\\Local\\Programs\\Python\\Python310\\lib\\site-packages\\pandas\\core\\frame.py:3978\u001b[0m, in \u001b[0;36mDataFrame.__setitem__\u001b[1;34m(self, key, value)\u001b[0m\n\u001b[0;32m   3975\u001b[0m     \u001b[39mself\u001b[39m\u001b[39m.\u001b[39m_setitem_array([key], value)\n\u001b[0;32m   3976\u001b[0m \u001b[39melse\u001b[39;00m:\n\u001b[0;32m   3977\u001b[0m     \u001b[39m# set column\u001b[39;00m\n\u001b[1;32m-> 3978\u001b[0m     \u001b[39mself\u001b[39;49m\u001b[39m.\u001b[39;49m_set_item(key, value)\n",
      "File \u001b[1;32mc:\\Users\\陳柏安\\AppData\\Local\\Programs\\Python\\Python310\\lib\\site-packages\\pandas\\core\\frame.py:4172\u001b[0m, in \u001b[0;36mDataFrame._set_item\u001b[1;34m(self, key, value)\u001b[0m\n\u001b[0;32m   4162\u001b[0m \u001b[39mdef\u001b[39;00m \u001b[39m_set_item\u001b[39m(\u001b[39mself\u001b[39m, key, value) \u001b[39m-\u001b[39m\u001b[39m>\u001b[39m \u001b[39mNone\u001b[39;00m:\n\u001b[0;32m   4163\u001b[0m     \u001b[39m\"\"\"\u001b[39;00m\n\u001b[0;32m   4164\u001b[0m \u001b[39m    Add series to DataFrame in specified column.\u001b[39;00m\n\u001b[0;32m   4165\u001b[0m \n\u001b[1;32m   (...)\u001b[0m\n\u001b[0;32m   4170\u001b[0m \u001b[39m    ensure homogeneity.\u001b[39;00m\n\u001b[0;32m   4171\u001b[0m \u001b[39m    \"\"\"\u001b[39;00m\n\u001b[1;32m-> 4172\u001b[0m     value \u001b[39m=\u001b[39m \u001b[39mself\u001b[39;49m\u001b[39m.\u001b[39;49m_sanitize_column(value)\n\u001b[0;32m   4174\u001b[0m     \u001b[39mif\u001b[39;00m (\n\u001b[0;32m   4175\u001b[0m         key \u001b[39min\u001b[39;00m \u001b[39mself\u001b[39m\u001b[39m.\u001b[39mcolumns\n\u001b[0;32m   4176\u001b[0m         \u001b[39mand\u001b[39;00m value\u001b[39m.\u001b[39mndim \u001b[39m==\u001b[39m \u001b[39m1\u001b[39m\n\u001b[0;32m   4177\u001b[0m         \u001b[39mand\u001b[39;00m \u001b[39mnot\u001b[39;00m is_extension_array_dtype(value)\n\u001b[0;32m   4178\u001b[0m     ):\n\u001b[0;32m   4179\u001b[0m         \u001b[39m# broadcast across multiple columns if necessary\u001b[39;00m\n\u001b[0;32m   4180\u001b[0m         \u001b[39mif\u001b[39;00m \u001b[39mnot\u001b[39;00m \u001b[39mself\u001b[39m\u001b[39m.\u001b[39mcolumns\u001b[39m.\u001b[39mis_unique \u001b[39mor\u001b[39;00m \u001b[39misinstance\u001b[39m(\u001b[39mself\u001b[39m\u001b[39m.\u001b[39mcolumns, MultiIndex):\n",
      "File \u001b[1;32mc:\\Users\\陳柏安\\AppData\\Local\\Programs\\Python\\Python310\\lib\\site-packages\\pandas\\core\\frame.py:4909\u001b[0m, in \u001b[0;36mDataFrame._sanitize_column\u001b[1;34m(self, value)\u001b[0m\n\u001b[0;32m   4907\u001b[0m     \u001b[39mreturn\u001b[39;00m _reindex_for_setitem(value, \u001b[39mself\u001b[39m\u001b[39m.\u001b[39mindex)\n\u001b[0;32m   4908\u001b[0m \u001b[39melif\u001b[39;00m is_dict_like(value):\n\u001b[1;32m-> 4909\u001b[0m     \u001b[39mreturn\u001b[39;00m _reindex_for_setitem(Series(value), \u001b[39mself\u001b[39;49m\u001b[39m.\u001b[39;49mindex)\n\u001b[0;32m   4911\u001b[0m \u001b[39mif\u001b[39;00m is_list_like(value):\n\u001b[0;32m   4912\u001b[0m     com\u001b[39m.\u001b[39mrequire_length_match(value, \u001b[39mself\u001b[39m\u001b[39m.\u001b[39mindex)\n",
      "File \u001b[1;32mc:\\Users\\陳柏安\\AppData\\Local\\Programs\\Python\\Python310\\lib\\site-packages\\pandas\\core\\frame.py:12013\u001b[0m, in \u001b[0;36m_reindex_for_setitem\u001b[1;34m(value, index)\u001b[0m\n\u001b[0;32m  12009\u001b[0m \u001b[39mdef\u001b[39;00m \u001b[39m_reindex_for_setitem\u001b[39m(value: DataFrame \u001b[39m|\u001b[39m Series, index: Index) \u001b[39m-\u001b[39m\u001b[39m>\u001b[39m ArrayLike:\n\u001b[0;32m  12010\u001b[0m     \u001b[39m# reindex if necessary\u001b[39;00m\n\u001b[0;32m  12012\u001b[0m     \u001b[39mif\u001b[39;00m value\u001b[39m.\u001b[39mindex\u001b[39m.\u001b[39mequals(index) \u001b[39mor\u001b[39;00m \u001b[39mnot\u001b[39;00m \u001b[39mlen\u001b[39m(index):\n\u001b[1;32m> 12013\u001b[0m         \u001b[39mreturn\u001b[39;00m value\u001b[39m.\u001b[39;49m_values\u001b[39m.\u001b[39;49mcopy()\n\u001b[0;32m  12015\u001b[0m     \u001b[39m# GH#4107\u001b[39;00m\n\u001b[0;32m  12016\u001b[0m     \u001b[39mtry\u001b[39;00m:\n",
      "\u001b[1;31mKeyboardInterrupt\u001b[0m: "
     ]
    }
   ],
   "source": [
    "if __name__==\"__main__\":\n",
    "    TV = 5\n",
    "    \n",
    "    file_path = './top200_training.xls'\n",
    "    stock = preprocessing(file_path)\n",
    "    normalized_stock = normalization(stock)\n",
    "    train_data, train_label, test_data, test_label = split_train_test(normalized_stock, TV)\n",
    "    #* Remap the labels\n",
    "    train_label = train_label.map({-1:0, 1:1})\n",
    "    test_label = test_label.map({-1:0, 1:1})\n",
    "    \n",
    "    data = [train_data, train_label, test_data, test_label]\n",
    "    \n",
    "    #* 設定GA參數    \n",
    "    POP_SIZE = 50 # 種群大小\n",
    "    DNA_LEN = 80 # 染色體長度: 5 -> 14個特徵，每個特徵5個\n",
    "    \n",
    "    cross_rate = 0.7 # 交配機率\n",
    "    mutation_rate = 0.001 # 變異機率\n",
    "    \n",
    "    #* 初始種群\n",
    "    pop = initial_population(POP_SIZE, DNA_LEN)\n",
    "\n",
    "    #* 迭代次數\n",
    "    generation_num = 30\n",
    "    \n",
    "    #* early stopping\n",
    "    overfit_num = 0\n",
    "    \n",
    "    i = 0\n",
    "    best_fitness_list = []\n",
    "    avg_fitness_list = []\n",
    "    run = []\n",
    "    while overfit_num < 3 and i < generation_num: # best fitness & average fitness 連續相等3次則中斷\n",
    "        print(f\"[Generation {i + 1}]\")\n",
    "        cross_pop = cross(data, pop, cross_rate) # 選擇 -> 交配\n",
    "        mutation_pop = mutation(cross_pop, mutation_rate) # 變異\n",
    "        pop = mutation_pop\n",
    "        i += 1\n",
    "        \n",
    "        pop, score = fitness(data, pop)\n",
    "        print(f\"Best chromosome: {pop[0]}\")\n",
    "        best_fitness, average_fitness = best_avg_fitness(score)\n",
    "        print(f\"Best fitness: {best_fitness}\")\n",
    "        print(f\"Avg fitness: {average_fitness}\\n\")\n",
    "        best_fitness_list.append(best_fitness)\n",
    "        avg_fitness_list.append(average_fitness)\n",
    "        run.append(i + 1)\n",
    "        \n",
    "        #* early stopping\n",
    "        if best_fitness == average_fitness:\n",
    "            overfit_num += 1\n",
    "        else:\n",
    "            overfit_num = 0\n",
    "        \n",
    "    print(f\"[TV{TV}]\")\n",
    "    best_chromosome = pop[0]\n",
    "    print(f\"Best_Chromosome: {best_chromosome}\")\n",
    "    weight = decode(best_chromosome)\n",
    "    for i in range(len(weight)):\n",
    "        print(f'attribute {i}: {weight[i] / 32}')\n",
    "    \n",
    "    #! test result\n",
    "    print(f\"測試結果:\")\n",
    "    test_model = XGBClassifier()\n",
    "    test_model.fit(train_data, train_label)\n",
    "    \n",
    "    #* predict label\n",
    "    predictions = test_model.predict(test_data)\n",
    "    print(predictions)\n",
    "    \n",
    "    #* test accuracy\n",
    "    test_score = metrics.accuracy_score(test_label, predictions)\n",
    "    print(f\"score: {test_score}\")\n",
    "    \n",
    "    #! fitness picture\n",
    "    draw_fitness(run, best_fitness_list, avg_fitness_list)"
   ]
  }
 ],
 "metadata": {
  "kernelspec": {
   "display_name": "Python 3",
   "language": "python",
   "name": "python3"
  },
  "language_info": {
   "codemirror_mode": {
    "name": "ipython",
    "version": 3
   },
   "file_extension": ".py",
   "mimetype": "text/x-python",
   "name": "python",
   "nbconvert_exporter": "python",
   "pygments_lexer": "ipython3",
   "version": "3.10.3 (tags/v3.10.3:a342a49, Mar 16 2022, 13:07:40) [MSC v.1929 64 bit (AMD64)]"
  },
  "orig_nbformat": 4,
  "vscode": {
   "interpreter": {
    "hash": "8e2fdfaba40b754b78c79fd14f3ea3f51484489fc81ab2e0ca96f8f821a6887f"
   }
  }
 },
 "nbformat": 4,
 "nbformat_minor": 2
}
